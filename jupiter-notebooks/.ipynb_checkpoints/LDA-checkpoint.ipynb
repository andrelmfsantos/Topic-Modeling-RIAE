{
 "cells": [
  {
   "cell_type": "code",
   "execution_count": 13,
   "metadata": {},
   "outputs": [
    {
     "name": "stdout",
     "output_type": "stream",
     "text": [
      "Python Version: 3.7.3 (default, Mar 27 2019, 16:54:48) \n",
      "[Clang 4.0.1 (tags/RELEASE_401/final)]\n"
     ]
    }
   ],
   "source": [
    "import os\n",
    "import sys\n",
    "import matplotlib.pyplot as plt\n",
    "import gensim\n",
    "import pyLDAvis\n",
    "import pyLDAvis.gensim\n",
    "\n",
    "from gensim import corpora\n",
    "from gensim import models\n",
    "from gensim.models.coherencemodel import CoherenceModel\n",
    "\n",
    "print('Python Version: %s' % (sys.version))\n",
    "%matplotlib inline"
   ]
  },
  {
   "cell_type": "markdown",
   "metadata": {},
   "source": [
    "## Load Everything\n",
    "If you ever need to load dictionary, corpus and documents"
   ]
  },
  {
   "cell_type": "code",
   "execution_count": 14,
   "metadata": {},
   "outputs": [
    {
     "name": "stdout",
     "output_type": "stream",
     "text": [
      "Dictionary(1025 unique tokens: ['compet', 'context', 'didá', 'empreg', 'estratég']...)\n",
      "MmCorpus(164 documents, 1025 features, 5521 non-zero entries)\n",
      "164\n",
      "164\n"
     ]
    }
   ],
   "source": [
    "import pickle\n",
    "with open('/Users/storopoli/Desktop/temp/Topic-Modeling-RIAE/saved-objects/documents', 'rb') as f: #load\n",
    "    documents = pickle.load(f)\n",
    "with open('/Users/storopoli/Desktop/temp/Topic-Modeling-RIAE/saved-objects/texts', 'rb') as f: #load\n",
    "    texts = pickle.load(f)\n",
    "with open('/Users/storopoli/Desktop/temp/Topic-Modeling-RIAE/saved-objects/lemmatized_output', 'rb') as f: #load\n",
    "    lemmatized_output = pickle.load(f)\n",
    "\n",
    "dictionary = gensim.corpora.Dictionary.load('/Users/storopoli/Desktop/temp/Topic-Modeling-RIAE/saved-objects/dictionary.dict')\n",
    "corpus = gensim.corpora.MmCorpus('/Users/storopoli/Desktop/temp/Topic-Modeling-RIAE/saved-objects/corpus.mm')\n",
    "\n",
    "print(dictionary)\n",
    "print(corpus)\n",
    "print(len(documents))\n",
    "print(len(lemmatized_output))"
   ]
  },
  {
   "cell_type": "markdown",
   "metadata": {},
   "source": [
    "Choosing a `k` that marks the end of a rapid growth of topic coherence usually offers meaningful and interpretable topics. Picking an even higher value can sometimes provide more granular sub-topics.\n",
    "\n",
    "If you see the same keywords being repeated in multiple topics, it’s probably a sign that the ‘k’ is too large.\n",
    "\n",
    "The `compute_coherence_values()` (see below) trains multiple LDA models and provides the models and their corresponding coherence scores."
   ]
  },
  {
   "cell_type": "code",
   "execution_count": 15,
   "metadata": {},
   "outputs": [],
   "source": [
    "def compute_performance(dictionary, corpus, texts, limit, start=2, step=1, lda_type=None, mallet_path=None):\n",
    "    \"\"\"\n",
    "    Compute c_v coherence and perplexity (if applicable) for various number of topics\n",
    "\n",
    "    Parameters:\n",
    "    ----------\n",
    "    \n",
    "    dictionary : Gensim dictionary\n",
    "    corpus : Gensim corpus\n",
    "    texts : List of input texts\n",
    "    limit : Max num of topics\n",
    "    lda_tpe : Type of LDA model from 3 options gensim for gensim.models.ldamodel.LdaModel, gensim-multicore for gensim.models.ldamulticore.LdaMulticore or mallet for gensim.models.wrappers.LdaMallet\n",
    "    mallet_path : Full path of mallet-ver/bin/mallet\n",
    "\n",
    "    Returns:\n",
    "    -------\n",
    "    model_list : List of LDA topic models\n",
    "    coherence_values : Coherence values corresponding to the LDA model with respective number of topics\n",
    "    perplexity_values (if applicable) : Perplexity values corresponding to the LDA model with respective number of topics\n",
    "    \"\"\"\n",
    "    import gensim\n",
    "    coherence_values = []\n",
    "    model_list = []\n",
    "    perplexity_values = []\n",
    "    if lda_type == 'gensim':\n",
    "        for num_topics in range(start, limit, step):\n",
    "            model = gensim.models.ldamodel.LdaModel(corpus=corpus,\n",
    "                                                    num_topics=num_topics, \n",
    "                                                    id2word=dictionary,\n",
    "                                                    random_state=100,\n",
    "                                                    update_every=1,\n",
    "                                                    chunksize=100,\n",
    "                                                    passes=10,\n",
    "                                                    alpha='auto',\n",
    "                                                    per_word_topics=True)\n",
    "            model_list.append(model)\n",
    "            coherencemodel = gensim.models.coherencemodel.CoherenceModel(model=model, texts=texts, dictionary=dictionary, coherence='c_v')\n",
    "            coherence_values.append(coherencemodel.get_coherence())\n",
    "            perplexity = model.log_perplexity(corpus)\n",
    "            perplexity_values.append(perplexity)\n",
    "\n",
    "        return model_list, coherence_values, perplexity_values\n",
    "    \n",
    "    elif lda_type == 'gensim-multicore':\n",
    "        for num_topics in range(start, limit, step):\n",
    "            model = gensim.models.ldamulticore.LdaMulticore(corpus=corpus,\n",
    "                                                            num_topics=num_topics, \n",
    "                                                            id2word=dictionary,\n",
    "                                                            random_state=100,\n",
    "                                                            chunksize=100,\n",
    "                                                            passes=10,\n",
    "                                                            alpha='symmetric',\n",
    "                                                            per_word_topics=True)\n",
    "            model_list.append(model)\n",
    "            coherencemodel = CoherenceModel(model=model, texts=texts, dictionary=dictionary, coherence='c_v')\n",
    "            coherence_values.append(coherencemodel.get_coherence())\n",
    "            perplexity = model.log_perplexity(corpus)\n",
    "            perplexity_values.append(perplexity)\n",
    "\n",
    "        return model_list, coherence_values, perplexity_values\n",
    "\n",
    "    elif lda_type == 'mallet':\n",
    "        if mallet_path == None:\n",
    "            raise Exception('mallet_path should be specified')\n",
    "        else:\n",
    "            for num_topics in range(start, limit, step):\n",
    "                model = gensim.models.wrappers.LdaMallet(mallet_path, \n",
    "                                                         corpus=corpus, \n",
    "                                                         num_topics=num_topics, \n",
    "                                                         id2word=dictionary)\n",
    "                model_list.append(model)\n",
    "                coherencemodel = CoherenceModel(model=model, texts=texts, dictionary=dictionary, coherence='c_v')\n",
    "                coherence_values.append(coherencemodel.get_coherence())\n",
    "\n",
    "        return model_list, coherence_values\n",
    "\n",
    "    else:\n",
    "        print('Please specify which lda_type: gensim, gensim-multicore or mallet')"
   ]
  },
  {
   "cell_type": "code",
   "execution_count": null,
   "metadata": {},
   "outputs": [],
   "source": [
    "model_list_1, coherence_values_1, perplexity_values_1 = compute_performance(dictionary=dictionary, \n",
    "                                                                                        corpus=corpus, \n",
    "                                                                                        texts=lemmatized_output, \n",
    "                                                                                        start=2, limit=40, step=1,\n",
    "                                                                                        lda_type='gensim')"
   ]
  },
  {
   "cell_type": "code",
   "execution_count": 25,
   "metadata": {},
   "outputs": [],
   "source": [
    "os.environ.update({'MALLET_HOME':r'/Users/storopoli/Desktop/temp/Topic-Modeling-RIAE/mallet-2.0.8/bin'})\n",
    "mallet_path='/Users/storopoli/Desktop/temp/Topic-Modeling-RIAE/mallet-2.0.8/bin/mallet/bin'"
   ]
  },
  {
   "cell_type": "code",
   "execution_count": 26,
   "metadata": {},
   "outputs": [],
   "source": [
    "# Can take a long time to run.\n",
    "model_list_mallet, coherence_values_mallet = compute_performance(dictionary=dictionary, \n",
    "                                                        corpus=corpus, \n",
    "                                                        texts=lemmatized_output, \n",
    "                                                        start=2, limit=40, step=1,\n",
    "                                                        lda_type='mallet',\n",
    "                                                        mallet_path=mallet_path)"
   ]
  },
  {
   "cell_type": "code",
   "execution_count": 23,
   "metadata": {},
   "outputs": [],
   "source": [
    "def graph_performance(model_list, coherence_values, perplexity_values=None, fname='performance LDA.jpg', dpi=300):\n",
    "    \"\"\"\n",
    "    Graphics for visualizing the output of a compute performance for a LDA model list\n",
    "\n",
    "    Parameters:\n",
    "    ----------\n",
    "    model_list : List of LDA topic models from a compute performance function\n",
    "    coherence_values : Coherence values corresponding to the LDA models from a compute performance function\n",
    "    perplexity_values : Perplexity values (if applicable) corresponding to the LDA models from a compute performance function\n",
    "    fname : Filename to save figure\n",
    "    dpi : Desired DPI for figure quality\n",
    "\n",
    "    Returns:\n",
    "    -------\n",
    "    Saves a figure as a desired filename\n",
    "    \"\"\"\n",
    "    import matplotlib.pyplot as plt\n",
    "    x = range(2,2+len(model_list))\n",
    "    \n",
    "    if type(model_list[0]) == gensim.models.wrappers.ldamallet.LdaMallet:\n",
    "        plt.plot(x, coherence_values)\n",
    "        plt.xlabel(\"Num Topics\")\n",
    "        plt.ylabel(\"Coherence score\")\n",
    "        plt.legend((\"coherence_values\"), loc='best')\n",
    "        plt.savefig(fname=fname, dpi=dpi)\n",
    "        plt.show()\n",
    "        # Print the coherence scores\n",
    "        count = 0\n",
    "        for m, cv in zip(x, coherence_values):\n",
    "            print('Model number: ', count, \"Num Topics =\", m, \" has Coherence Value of\", round(cv, 3))\n",
    "            count += 1\n",
    "            \n",
    "    elif type(model_list[0]) == gensim.models.ldamodel.LdaModel:\n",
    "        fig, ax1 = plt.subplots()\n",
    "        color = 'tab:red'\n",
    "        plt.xlabel(\"Num Topics\")\n",
    "        plt.ylabel(\"Perplexity score\", color=color)\n",
    "        ax1.plot(x, perplexity_values, color=color)\n",
    "        ax1.tick_params(axis='y', labelcolor=color)\n",
    "\n",
    "        ax2 = ax1.twinx() # instantiate a second axes that shares the same x-axis\n",
    "        color = 'tab:blue'\n",
    "        ax2.set_ylabel('Coherence score', color=color)  # we already handled the x-label with ax1\n",
    "        ax2.plot(x, coherence_values, color=color)\n",
    "        ax2.tick_params(axis='y', labelcolor=color)\n",
    "\n",
    "        fig.tight_layout()  # otherwise the right y-label is slightly clipped\n",
    "        plt.savefig(fname=fname, dpi=dpi)\n",
    "        plt.show()\n",
    "        # Print the performance scores\n",
    "        count = 0\n",
    "        for m, cv, per in zip(x, coherence_values, perplexity_values):\n",
    "            print('Model number: ', count, \"Num Topics =\", m, \n",
    "              \" has Coherence Value of\", round(cv, 3),\n",
    "             \" and Perplexity Valye of\", round(per, 3))\n",
    "            count += 1"
   ]
  },
  {
   "cell_type": "code",
   "execution_count": 111,
   "metadata": {},
   "outputs": [
    {
     "data": {
      "text/plain": [
       "range(2, 40)"
      ]
     },
     "execution_count": 111,
     "metadata": {},
     "output_type": "execute_result"
    }
   ],
   "source": [
    "range(2,2+len(model_list),1)"
   ]
  },
  {
   "cell_type": "code",
   "execution_count": 28,
   "metadata": {},
   "outputs": [
    {
     "data": {
      "image/png": "[encoded data removed]",
      "text/plain": [
       "<Figure size 432x288 with 1 Axes>"
      ]
     },
     "metadata": {
      "needs_background": "light"
     },
     "output_type": "display_data"
    },
    {
     "name": "stdout",
     "output_type": "stream",
     "text": [
      "Model number:  0 Num Topics = 2  has Coherence Value of 0.351\n",
      "Model number:  1 Num Topics = 3  has Coherence Value of 0.273\n",
      "Model number:  2 Num Topics = 4  has Coherence Value of 0.329\n",
      "Model number:  3 Num Topics = 5  has Coherence Value of 0.27\n",
      "Model number:  4 Num Topics = 6  has Coherence Value of 0.324\n",
      "Model number:  5 Num Topics = 7  has Coherence Value of 0.298\n",
      "Model number:  6 Num Topics = 8  has Coherence Value of 0.31\n",
      "Model number:  7 Num Topics = 9  has Coherence Value of 0.325\n",
      "Model number:  8 Num Topics = 10  has Coherence Value of 0.328\n",
      "Model number:  9 Num Topics = 11  has Coherence Value of 0.327\n",
      "Model number:  10 Num Topics = 12  has Coherence Value of 0.329\n",
      "Model number:  11 Num Topics = 13  has Coherence Value of 0.335\n",
      "Model number:  12 Num Topics = 14  has Coherence Value of 0.347\n",
      "Model number:  13 Num Topics = 15  has Coherence Value of 0.35\n",
      "Model number:  14 Num Topics = 16  has Coherence Value of 0.361\n",
      "Model number:  15 Num Topics = 17  has Coherence Value of 0.362\n",
      "Model number:  16 Num Topics = 18  has Coherence Value of 0.368\n",
      "Model number:  17 Num Topics = 19  has Coherence Value of 0.371\n",
      "Model number:  18 Num Topics = 20  has Coherence Value of 0.351\n",
      "Model number:  19 Num Topics = 21  has Coherence Value of 0.368\n",
      "Model number:  20 Num Topics = 22  has Coherence Value of 0.355\n",
      "Model number:  21 Num Topics = 23  has Coherence Value of 0.374\n",
      "Model number:  22 Num Topics = 24  has Coherence Value of 0.38\n",
      "Model number:  23 Num Topics = 25  has Coherence Value of 0.365\n",
      "Model number:  24 Num Topics = 26  has Coherence Value of 0.392\n",
      "Model number:  25 Num Topics = 27  has Coherence Value of 0.377\n",
      "Model number:  26 Num Topics = 28  has Coherence Value of 0.379\n",
      "Model number:  27 Num Topics = 29  has Coherence Value of 0.399\n",
      "Model number:  28 Num Topics = 30  has Coherence Value of 0.412\n",
      "Model number:  29 Num Topics = 31  has Coherence Value of 0.392\n",
      "Model number:  30 Num Topics = 32  has Coherence Value of 0.395\n",
      "Model number:  31 Num Topics = 33  has Coherence Value of 0.407\n",
      "Model number:  32 Num Topics = 34  has Coherence Value of 0.415\n",
      "Model number:  33 Num Topics = 35  has Coherence Value of 0.442\n",
      "Model number:  34 Num Topics = 36  has Coherence Value of 0.43\n",
      "Model number:  35 Num Topics = 37  has Coherence Value of 0.457\n",
      "Model number:  36 Num Topics = 38  has Coherence Value of 0.429\n",
      "Model number:  37 Num Topics = 39  has Coherence Value of 0.424\n"
     ]
    }
   ],
   "source": [
    "graph_performance(model_list_mallet, coherence_values_mallet, fname='/Users/storopoli/Desktop/temp/Topic-Modeling-RIAE/images/LDA-Mallet.jpg')"
   ]
  },
  {
   "cell_type": "code",
   "execution_count": 74,
   "metadata": {},
   "outputs": [
    {
     "data": {
      "image/png": "[encoded data removed]",
      "text/plain": [
       "<Figure size 432x288 with 2 Axes>"
      ]
     },
     "metadata": {
      "needs_background": "light"
     },
     "output_type": "display_data"
    },
    {
     "name": "stdout",
     "output_type": "stream",
     "text": [
      "Model number:  0 Num Topics = 2  has Coherence Value of 0.345  and Perplexity Valye of -6.325\n",
      "Model number:  1 Num Topics = 3  has Coherence Value of 0.325  and Perplexity Valye of -6.34\n",
      "Model number:  2 Num Topics = 4  has Coherence Value of 0.314  and Perplexity Valye of -6.356\n",
      "Model number:  3 Num Topics = 5  has Coherence Value of 0.305  and Perplexity Valye of -6.384\n",
      "Model number:  4 Num Topics = 6  has Coherence Value of 0.278  and Perplexity Valye of -6.399\n",
      "Model number:  5 Num Topics = 7  has Coherence Value of 0.326  and Perplexity Valye of -6.395\n",
      "Model number:  6 Num Topics = 8  has Coherence Value of 0.354  and Perplexity Valye of -6.4\n",
      "Model number:  7 Num Topics = 9  has Coherence Value of 0.327  and Perplexity Valye of -6.402\n",
      "Model number:  8 Num Topics = 10  has Coherence Value of 0.355  and Perplexity Valye of -6.415\n",
      "Model number:  9 Num Topics = 11  has Coherence Value of 0.348  and Perplexity Valye of -6.414\n",
      "Model number:  10 Num Topics = 12  has Coherence Value of 0.356  and Perplexity Valye of -6.427\n",
      "Model number:  11 Num Topics = 13  has Coherence Value of 0.351  and Perplexity Valye of -6.431\n",
      "Model number:  12 Num Topics = 14  has Coherence Value of 0.401  and Perplexity Valye of -6.45\n",
      "Model number:  13 Num Topics = 15  has Coherence Value of 0.314  and Perplexity Valye of -6.665\n",
      "Model number:  14 Num Topics = 16  has Coherence Value of 0.371  and Perplexity Valye of -6.89\n",
      "Model number:  15 Num Topics = 17  has Coherence Value of 0.312  and Perplexity Valye of -7.032\n",
      "Model number:  16 Num Topics = 18  has Coherence Value of 0.328  and Perplexity Valye of -7.098\n",
      "Model number:  17 Num Topics = 19  has Coherence Value of 0.383  and Perplexity Valye of -7.117\n",
      "Model number:  18 Num Topics = 20  has Coherence Value of 0.304  and Perplexity Valye of -7.169\n",
      "Model number:  19 Num Topics = 21  has Coherence Value of 0.316  and Perplexity Valye of -7.201\n",
      "Model number:  20 Num Topics = 22  has Coherence Value of 0.419  and Perplexity Valye of -7.211\n",
      "Model number:  21 Num Topics = 23  has Coherence Value of 0.323  and Perplexity Valye of -7.271\n",
      "Model number:  22 Num Topics = 24  has Coherence Value of 0.35  and Perplexity Valye of -7.308\n",
      "Model number:  23 Num Topics = 25  has Coherence Value of 0.345  and Perplexity Valye of -7.355\n",
      "Model number:  24 Num Topics = 26  has Coherence Value of 0.374  and Perplexity Valye of -7.375\n",
      "Model number:  25 Num Topics = 27  has Coherence Value of 0.385  and Perplexity Valye of -7.415\n",
      "Model number:  26 Num Topics = 28  has Coherence Value of 0.43  and Perplexity Valye of -7.454\n",
      "Model number:  27 Num Topics = 29  has Coherence Value of 0.384  and Perplexity Valye of -7.507\n",
      "Model number:  28 Num Topics = 30  has Coherence Value of 0.459  and Perplexity Valye of -7.543\n",
      "Model number:  29 Num Topics = 31  has Coherence Value of 0.394  and Perplexity Valye of -7.572\n",
      "Model number:  30 Num Topics = 32  has Coherence Value of 0.421  and Perplexity Valye of -7.636\n",
      "Model number:  31 Num Topics = 33  has Coherence Value of 0.38  and Perplexity Valye of -7.657\n",
      "Model number:  32 Num Topics = 34  has Coherence Value of 0.435  and Perplexity Valye of -7.718\n",
      "Model number:  33 Num Topics = 35  has Coherence Value of 0.434  and Perplexity Valye of -7.77\n",
      "Model number:  34 Num Topics = 36  has Coherence Value of 0.41  and Perplexity Valye of -7.771\n",
      "Model number:  35 Num Topics = 37  has Coherence Value of 0.414  and Perplexity Valye of -7.827\n",
      "Model number:  36 Num Topics = 38  has Coherence Value of 0.424  and Perplexity Valye of -7.882\n",
      "Model number:  37 Num Topics = 39  has Coherence Value of 0.434  and Perplexity Valye of -7.921\n"
     ]
    }
   ],
   "source": [
    "graph_performance(model_list_1, coherence_values_1, perplexity_values_1, fname='LDA-Gensim.jpg')"
   ]
  },
  {
   "cell_type": "code",
   "execution_count": 32,
   "metadata": {},
   "outputs": [
    {
     "data": {
      "text/plain": [
       "[(0,\n",
       "  '0.212*\"estratég\" + 0.049*\"organiz\" + 0.042*\"competi\" + 0.040*\"prát\" + 0.036*\"merc\" + 0.036*\"conceit\" + 0.035*\"empr\" + 0.022*\"vantag\" + 0.018*\"gerenc\" + 0.016*\"comport\"'),\n",
       " (1,\n",
       "  '0.055*\"gest\" + 0.047*\"teor\" + 0.042*\"negóci\" + 0.027*\"internac\" + 0.024*\"caracterís\" + 0.022*\"futur\" + 0.021*\"decis\" + 0.020*\"abord\" + 0.018*\"país\" + 0.017*\"relacion\"'),\n",
       " (2,\n",
       "  '0.080*\"desenvolv\" + 0.043*\"ambi\" + 0.032*\"inform\" + 0.030*\"empreend\" + 0.029*\"públic\" + 0.026*\"sustent\" + 0.025*\"instituc\" + 0.023*\"institu\" + 0.022*\"internacion\" + 0.022*\"empreendedor\"'),\n",
       " (3,\n",
       "  '0.090*\"process\" + 0.037*\"conhec\" + 0.030*\"entrev\" + 0.030*\"context\" + 0.028*\"qualit\" + 0.023*\"perspec\" + 0.023*\"form\" + 0.023*\"particip\" + 0.020*\"envolv\" + 0.018*\"mudanç\"'),\n",
       " (4,\n",
       "  '0.125*\"empr\" + 0.043*\"fat\" + 0.042*\"recurs\" + 0.040*\"brasil\" + 0.032*\"ativ\" + 0.026*\"estrut\" + 0.023*\"corpor\" + 0.022*\"financ\" + 0.019*\"efici\" + 0.019*\"capit\"'),\n",
       " (5,\n",
       "  '0.084*\"inov\" + 0.082*\"desempenh\" + 0.067*\"capac\" + 0.062*\"organizac\" + 0.059*\"model\" + 0.027*\"dimens\" + 0.024*\"dinâm\" + 0.024*\"produt\" + 0.022*\"ges\" + 0.018*\"pequen\"')]"
      ]
     },
     "execution_count": 32,
     "metadata": {},
     "output_type": "execute_result"
    }
   ],
   "source": [
    "# Select the model and print the topics\n",
    "optimal_model = model_list_mallet[4]\n",
    "model_topics = optimal_model.show_topics(formatted=True)\n",
    "optimal_model.print_topics(num_words=10)"
   ]
  },
  {
   "cell_type": "code",
   "execution_count": 34,
   "metadata": {},
   "outputs": [],
   "source": [
    "optimal_model.save('/Users/storopoli/Desktop/temp/Topic-Modeling-RIAE/saved-objects/optimal_model_6_topics')"
   ]
  },
  {
   "cell_type": "code",
   "execution_count": 105,
   "metadata": {},
   "outputs": [
    {
     "name": "stderr",
     "output_type": "stream",
     "text": [
      "/home/storopoli/anaconda3/envs/topic-modeling/lib/python3.7/site-packages/smart_open/smart_open_lib.py:398: UserWarning: This function is deprecated, use smart_open.open instead. See the migration notes for details: https://github.com/RaRe-Technologies/smart_open/blob/master/README.rst#migrating-to-the-new-open-function\n",
      "  'See the migration notes for details: %s' % _MIGRATION_NOTES_URL\n",
      "/home/storopoli/anaconda3/envs/topic-modeling/lib/python3.7/site-packages/pyLDAvis/_prepare.py:223: RuntimeWarning: divide by zero encountered in log\n",
      "  kernel = (topic_given_term * np.log((topic_given_term.T / topic_proportion).T))\n",
      "/home/storopoli/anaconda3/envs/topic-modeling/lib/python3.7/site-packages/pyLDAvis/_prepare.py:240: RuntimeWarning: divide by zero encountered in log\n",
      "  log_lift = np.log(topic_term_dists / term_proportion)\n",
      "/home/storopoli/anaconda3/envs/topic-modeling/lib/python3.7/site-packages/pyLDAvis/_prepare.py:241: RuntimeWarning: divide by zero encountered in log\n",
      "  log_ttd = np.log(topic_term_dists)\n",
      "/home/storopoli/anaconda3/envs/topic-modeling/lib/python3.7/site-packages/pyLDAvis/_prepare.py:257: FutureWarning: Sorting because non-concatenation axis is not aligned. A future version\n",
      "of pandas will change to not sort by default.\n",
      "\n",
      "To accept the future behavior, pass 'sort=False'.\n",
      "\n",
      "To retain the current behavior and silence the warning, pass 'sort=True'.\n",
      "\n",
      "  return pd.concat([default_term_info] + list(topic_dfs))\n"
     ]
    }
   ],
   "source": [
    "# Visualize the topics\n",
    "model = gensim.models.wrappers.ldamallet.malletmodel2ldamodel(optimal_model)\n",
    "#model = optimal_model\n",
    "pyLDAvis.enable_notebook()\n",
    "vis = pyLDAvis.gensim.prepare(model, corpus, dictionary)"
   ]
  },
  {
   "cell_type": "code",
   "execution_count": 84,
   "metadata": {},
   "outputs": [
    {
     "name": "stderr",
     "output_type": "stream",
     "text": [
      "/home/storopoli/anaconda3/envs/topic-modeling/lib/python3.7/site-packages/smart_open/smart_open_lib.py:398: UserWarning: This function is deprecated, use smart_open.open instead. See the migration notes for details: https://github.com/RaRe-Technologies/smart_open/blob/master/README.rst#migrating-to-the-new-open-function\n",
      "  'See the migration notes for details: %s' % _MIGRATION_NOTES_URL\n",
      "/home/storopoli/anaconda3/envs/topic-modeling/lib/python3.7/site-packages/smart_open/smart_open_lib.py:398: UserWarning: This function is deprecated, use smart_open.open instead. See the migration notes for details: https://github.com/RaRe-Technologies/smart_open/blob/master/README.rst#migrating-to-the-new-open-function\n",
      "  'See the migration notes for details: %s' % _MIGRATION_NOTES_URL\n",
      "/home/storopoli/anaconda3/envs/topic-modeling/lib/python3.7/site-packages/pyLDAvis/_prepare.py:257: FutureWarning: Sorting because non-concatenation axis is not aligned. A future version\n",
      "of pandas will change to not sort by default.\n",
      "\n",
      "To accept the future behavior, pass 'sort=False'.\n",
      "\n",
      "To retain the current behavior and silence the warning, pass 'sort=True'.\n",
      "\n",
      "  return pd.concat([default_term_info] + list(topic_dfs))\n"
     ]
    }
   ],
   "source": [
    "# Visualize the topics\n",
    "#model = gensim.models.wrappers.ldamallet.malletmodel2ldamodel(optimal_model)\n",
    "model = optimal_model\n",
    "pyLDAvis.enable_notebook()\n",
    "vis = pyLDAvis.gensim.prepare(model, corpus, dictionary)"
   ]
  },
  {
   "cell_type": "code",
   "execution_count": 106,
   "metadata": {},
   "outputs": [
    {
     "data": {
      "text/html": [
       "\n",
       "<link rel=\"stylesheet\" type=\"text/css\" href=\"https://cdn.rawgit.com/bmabey/pyLDAvis/files/ldavis.v1.0.0.css\">\n",
       "\n",
       "\n",
       "<div id=\"ldavis_el262121397630541184968550340529\"></div>\n",
       "<script type=\"text/javascript\">\n",
       "\n",
       "var ldavis_el262121397630541184968550340529_data = {\"mdsDat\": {\"x\": [0.11303703577669634, -0.27593188843677324, 0.22123443920014052, -0.2967689706542088, 0.08429901458345276, 0.15413036953069234], \"y\": [-0.26524714604170013, -0.07116853668067834, -0.018665427031854153, 0.028568627929395917, 0.3919827920007038, -0.06547031017586682], \"topics\": [1, 2, 3, 4, 5, 6], \"cluster\": [1, 1, 1, 1, 1, 1], \"Freq\": [16.994206676317944, 16.932809024733427, 16.919600638548452, 16.861139017126987, 16.496369250097764, 15.795875393175434]}, \"tinfo\": {\"Category\": [\"Default\", \"Default\", \"Default\", \"Default\", \"Default\", \"Default\", \"Default\", \"Default\", \"Default\", \"Default\", \"Default\", \"Default\", \"Default\", \"Default\", \"Default\", \"Default\", \"Default\", \"Default\", \"Default\", \"Default\", \"Default\", \"Default\", \"Default\", \"Default\", \"Default\", \"Default\", \"Default\", \"Default\", \"Default\", \"Default\", \"Topic1\", \"Topic1\", \"Topic1\", \"Topic1\", \"Topic1\", \"Topic1\", \"Topic1\", \"Topic1\", \"Topic1\", \"Topic1\", \"Topic1\", \"Topic1\", \"Topic1\", \"Topic1\", \"Topic1\", \"Topic1\", \"Topic1\", \"Topic1\", \"Topic1\", \"Topic1\", \"Topic1\", \"Topic1\", \"Topic1\", \"Topic1\", \"Topic1\", \"Topic1\", \"Topic1\", \"Topic1\", \"Topic1\", \"Topic1\", \"Topic1\", \"Topic1\", \"Topic1\", \"Topic1\", \"Topic1\", \"Topic1\", \"Topic1\", \"Topic1\", \"Topic1\", \"Topic1\", \"Topic1\", \"Topic1\", \"Topic1\", \"Topic1\", \"Topic1\", \"Topic1\", \"Topic1\", \"Topic1\", \"Topic1\", \"Topic1\", \"Topic1\", \"Topic1\", \"Topic1\", \"Topic2\", \"Topic2\", \"Topic2\", \"Topic2\", \"Topic2\", \"Topic2\", \"Topic2\", \"Topic2\", \"Topic2\", \"Topic2\", \"Topic2\", \"Topic2\", \"Topic2\", \"Topic2\", \"Topic2\", \"Topic2\", \"Topic2\", \"Topic2\", \"Topic2\", \"Topic2\", \"Topic2\", \"Topic2\", \"Topic2\", \"Topic2\", \"Topic2\", \"Topic2\", \"Topic2\", \"Topic2\", \"Topic2\", \"Topic2\", \"Topic2\", \"Topic2\", \"Topic2\", \"Topic2\", \"Topic2\", \"Topic2\", \"Topic2\", \"Topic2\", \"Topic2\", \"Topic2\", \"Topic2\", \"Topic2\", \"Topic2\", \"Topic2\", \"Topic2\", \"Topic2\", \"Topic2\", \"Topic2\", \"Topic2\", \"Topic2\", \"Topic2\", \"Topic2\", \"Topic2\", \"Topic2\", \"Topic2\", \"Topic2\", \"Topic3\", \"Topic3\", \"Topic3\", \"Topic3\", \"Topic3\", \"Topic3\", \"Topic3\", \"Topic3\", \"Topic3\", \"Topic3\", \"Topic3\", \"Topic3\", \"Topic3\", \"Topic3\", \"Topic3\", \"Topic3\", \"Topic3\", \"Topic3\", \"Topic3\", \"Topic3\", \"Topic3\", \"Topic3\", \"Topic3\", \"Topic3\", \"Topic3\", \"Topic3\", \"Topic3\", \"Topic3\", \"Topic3\", \"Topic3\", \"Topic3\", \"Topic3\", \"Topic3\", \"Topic3\", \"Topic3\", \"Topic3\", \"Topic3\", \"Topic3\", \"Topic3\", \"Topic3\", \"Topic3\", \"Topic3\", \"Topic3\", \"Topic3\", \"Topic3\", \"Topic3\", \"Topic3\", \"Topic3\", \"Topic3\", \"Topic3\", \"Topic3\", \"Topic3\", \"Topic3\", \"Topic3\", \"Topic4\", \"Topic4\", \"Topic4\", \"Topic4\", \"Topic4\", \"Topic4\", \"Topic4\", \"Topic4\", \"Topic4\", \"Topic4\", \"Topic4\", \"Topic4\", \"Topic4\", \"Topic4\", \"Topic4\", \"Topic4\", \"Topic4\", \"Topic4\", \"Topic4\", \"Topic4\", \"Topic4\", \"Topic4\", \"Topic4\", \"Topic4\", \"Topic4\", \"Topic4\", \"Topic4\", \"Topic4\", \"Topic4\", \"Topic4\", \"Topic4\", \"Topic4\", \"Topic4\", \"Topic4\", \"Topic4\", \"Topic4\", \"Topic4\", \"Topic4\", \"Topic4\", \"Topic4\", \"Topic4\", \"Topic4\", \"Topic4\", \"Topic4\", \"Topic4\", \"Topic4\", \"Topic4\", \"Topic4\", \"Topic4\", \"Topic4\", \"Topic4\", \"Topic4\", \"Topic4\", \"Topic4\", \"Topic4\", \"Topic4\", \"Topic4\", \"Topic4\", \"Topic4\", \"Topic4\", \"Topic4\", \"Topic4\", \"Topic5\", \"Topic5\", \"Topic5\", \"Topic5\", \"Topic5\", \"Topic5\", \"Topic5\", \"Topic5\", \"Topic5\", \"Topic5\", \"Topic5\", \"Topic5\", \"Topic5\", \"Topic5\", \"Topic5\", \"Topic5\", \"Topic5\", \"Topic5\", \"Topic5\", \"Topic5\", \"Topic5\", \"Topic5\", \"Topic5\", \"Topic5\", \"Topic5\", \"Topic5\", \"Topic5\", \"Topic5\", \"Topic5\", \"Topic5\", \"Topic5\", \"Topic5\", \"Topic5\", \"Topic5\", \"Topic5\", \"Topic5\", \"Topic5\", \"Topic5\", \"Topic5\", \"Topic5\", \"Topic5\", \"Topic5\", \"Topic5\", \"Topic5\", \"Topic5\", \"Topic5\", \"Topic5\", \"Topic5\", \"Topic5\", \"Topic5\", \"Topic5\", \"Topic5\", \"Topic5\", \"Topic5\", \"Topic5\", \"Topic5\", \"Topic5\", \"Topic5\", \"Topic5\", \"Topic6\", \"Topic6\", \"Topic6\", \"Topic6\", \"Topic6\", \"Topic6\", \"Topic6\", \"Topic6\", \"Topic6\", \"Topic6\", \"Topic6\", \"Topic6\", \"Topic6\", \"Topic6\", \"Topic6\", \"Topic6\", \"Topic6\", \"Topic6\", \"Topic6\", \"Topic6\", \"Topic6\", \"Topic6\", \"Topic6\", \"Topic6\", \"Topic6\", \"Topic6\", \"Topic6\", \"Topic6\", \"Topic6\", \"Topic6\", \"Topic6\", \"Topic6\", \"Topic6\", \"Topic6\", \"Topic6\", \"Topic6\", \"Topic6\", \"Topic6\", \"Topic6\", \"Topic6\", \"Topic6\", \"Topic6\", \"Topic6\", \"Topic6\", \"Topic6\", \"Topic6\", \"Topic6\", \"Topic6\", \"Topic6\", \"Topic6\", \"Topic6\", \"Topic6\", \"Topic6\", \"Topic6\", \"Topic6\", \"Topic6\", \"Topic6\", \"Topic6\", \"Topic6\", \"Topic6\", \"Topic6\"], \"Freq\": [310.0, 226.0, 125.0, 122.0, 130.0, 100.0, 93.0, 92.0, 89.0, 87.0, 73.0, 66.0, 61.0, 101.0, 62.0, 59.0, 58.0, 55.0, 53.0, 53.0, 53.0, 46.0, 45.0, 43.0, 45.0, 40.0, 37.0, 37.0, 40.0, 36.0, 9.13815062797451, 19.291651325723965, 9.13815062797451, 9.13815062797451, 18.27630125594902, 53.81355369807211, 9.13815062797451, 9.13815062797451, 9.13815062797451, 9.13815062797451, 18.27630125594902, 5.076750348874728, 5.076750348874728, 15.230251046624183, 4.061400279099782, 2.030700139549891, 6.0921004186496726, 8.122800558199565, 2.030700139549891, 2.030700139549891, 2.030700139549891, 2.030700139549891, 2.030700139549891, 2.030700139549891, 11.168850767524402, 2.030700139549891, 3.0460502093248363, 4.061400279099782, 2.030700139549891, 2.030700139549891, 100.51965690771961, 93.412206419295, 59.905654116721784, 35.53725244212309, 29.44515202347342, 29.44515202347342, 26.399101814148583, 24.36840167459869, 23.35305160482375, 22.337701535048804, 22.337701535048804, 15.230251046624183, 15.230251046624183, 14.214900976849238, 13.199550907074292, 12.184200837299345, 12.184200837299345, 38.58330265144793, 14.214900976849238, 31.475852163023312, 57.8749539771719, 32.49120223279826, 11.168850767524402, 8.874231043640963, 53.24538626184578, 8.874231043640963, 8.874231043640963, 26.62269313092289, 53.24538626184578, 20.706539101828913, 58.17551461942409, 17.748462087281926, 8.874231043640963, 7.888205372125301, 9.860256715156627, 3.9441026860626507, 2.958077014546988, 3.9441026860626507, 2.958077014546988, 9.860256715156627, 1.9720513430313253, 2.958077014546988, 4.9301283575783135, 1.9720513430313253, 7.888205372125301, 1.9720513430313253, 6.902179700609638, 1.9720513430313253, 2.958077014546988, 1.9720513430313253, 3.9441026860626507, 3.9441026860626507, 6.902179700609638, 310.59808652743374, 62.11961730548674, 31.552821488501205, 23.664616116375903, 23.664616116375903, 21.69256477334458, 18.73448775879759, 18.73448775879759, 16.762436415766263, 13.804359401219276, 12.818333729703616, 10.84628238667229, 10.84628238667229, 10.84628238667229, 9.860256715156627, 7.888205372125301, 7.888205372125301, 7.888205372125301, 7.888205372125301, 7.888205372125301, 7.888205372125301, 13.804359401219276, 10.84628238667229, 81.84013073579999, 11.832308058187952, 8.874231043640963, 2.031786954418483, 2.031786954418483, 16.254295635347862, 7.11125434046469, 2.031786954418483, 2.031786954418483, 2.031786954418483, 7.11125434046469, 4.063573908836966, 11.174828249301655, 9.143041294883172, 22.34965649860331, 4.063573908836966, 18.286082589766345, 4.063573908836966, 4.063573908836966, 7.11125434046469, 8.127147817673931, 9.143041294883172, 8.127147817673931, 2.031786954418483, 9.143041294883172, 8.127147817673931, 11.174828249301655, 2.031786954418483, 4.063573908836966, 2.031786954418483, 4.063573908836966, 9.143041294883172, 4.063573908836966, 125.97079117394593, 122.9231107423182, 92.44630642604096, 87.36683903999476, 40.635739088369654, 35.55627170232344, 27.42912388464952, 26.413230407440274, 24.38144345302179, 19.301976066975584, 16.254295635347862, 15.238402158138621, 15.238402158138621, 14.22250868092938, 9.143041294883172, 9.143041294883172, 9.143041294883172, 8.127147817673931, 44.69931299720662, 20.317869544184827, 25.397336930231035, 16.254295635347862, 32.508591270695725, 43.68341951999738, 2.009147785266632, 2.009147785266632, 2.009147785266632, 8.036591141066529, 2.009147785266632, 13.059460604233108, 8.036591141066529, 2.009147785266632, 16.073182282133057, 2.009147785266632, 10.04573892633316, 5.02286946316658, 4.018295570533264, 7.032017248433212, 5.02286946316658, 2.009147785266632, 2.009147785266632, 2.009147785266632, 2.009147785266632, 8.036591141066529, 5.02286946316658, 2.009147785266632, 14.064034496866425, 2.009147785266632, 2.009147785266632, 2.009147785266632, 9.041165033699844, 4.018295570533264, 2.009147785266632, 8.036591141066529, 73.33389416223207, 46.210399061132534, 45.205825168499224, 36.16466013479938, 32.146364564266115, 31.141790671632798, 31.141790671632798, 27.123495101099532, 27.123495101099532, 25.1143473158329, 24.109773423199584, 21.096051745299636, 20.09147785266632, 19.086903960033005, 18.08233006739969, 18.08233006739969, 17.07775617476637, 15.06860838949974, 14.064034496866425, 13.059460604233108, 13.059460604233108, 12.054886711599792, 12.054886711599792, 11.050312818966477, 11.050312818966477, 11.050312818966477, 39.17838181269933, 35.16008624216606, 26.118921208466215, 144.6586405391975, 22.100625637932954, 15.06860838949974, 29.732563579488566, 2.0505216261716255, 3.0757824392574378, 2.0505216261716255, 2.0505216261716255, 18.454694635544627, 11.27786894394394, 9.227347317772313, 21.530477074802064, 2.0505216261716255, 2.0505216261716255, 2.0505216261716255, 9.227347317772313, 5.126304065429063, 5.126304065429063, 3.0757824392574378, 4.101043252343251, 6.1515648785148755, 9.227347317772313, 4.101043252343251, 6.1515648785148755, 18.454694635544627, 4.101043252343251, 2.0505216261716255, 12.303129757029751, 5.126304065429063, 13.328390570115566, 2.0505216261716255, 2.0505216261716255, 9.227347317772313, 89.19769073846571, 43.06095414960413, 36.90938927108925, 32.80834601874601, 17.429433822458815, 17.429433822458815, 17.429433822458815, 16.404173009373004, 16.404173009373004, 15.37891219628719, 15.37891219628719, 15.37891219628719, 14.353651383201377, 14.353651383201377, 13.328390570115566, 13.328390570115566, 13.328390570115566, 13.328390570115566, 11.27786894394394, 11.27786894394394, 11.27786894394394, 11.27786894394394, 11.27786894394394, 126.10708000955495, 30.75782439257438, 17.429433822458815, 34.85886764491763, 18.454694635544627, 26.656781140231132, 7.1601547361503775, 7.1601547361503775, 14.320309472300755, 7.1601547361503775, 7.1601547361503775, 7.1601547361503775, 28.64061894460151, 2.045758496042965, 20.45758496042965, 5.114396240107412, 2.045758496042965, 3.0686377440644472, 2.045758496042965, 21.48046420845113, 20.45758496042965, 3.0686377440644472, 2.045758496042965, 2.045758496042965, 4.09151699208593, 21.48046420845113, 6.1372754881288945, 5.114396240107412, 3.0686377440644472, 4.09151699208593, 2.045758496042965, 5.114396240107412, 6.1372754881288945, 5.114396240107412, 3.0686377440644472, 4.09151699208593, 61.37275488128895, 55.235479393160055, 37.84653217679485, 37.84653217679485, 33.755015184708924, 32.73213593668744, 27.617739696580028, 23.5262227044941, 19.434705712408167, 17.3889472163652, 17.3889472163652, 65.46427187337488, 13.297430224279273, 12.274550976257789, 12.274550976257789, 12.274550976257789, 11.251671728236309, 11.251671728236309, 11.251671728236309, 10.228792480214825, 10.228792480214825, 10.228792480214825, 9.205913232193343, 8.18303398417186, 8.18303398417186, 8.18303398417186, 8.18303398417186, 27.617739696580028, 26.594860448558546, 23.5262227044941, 10.228792480214825], \"Term\": [\"estrat\\u00e9g\", \"empr\", \"inov\", \"desempenh\", \"process\", \"capac\", \"gest\", \"organizac\", \"organiz\", \"model\", \"brasil\", \"teor\", \"fat\", \"desenvolv\", \"competi\", \"pr\\u00e1t\", \"recurs\", \"ambi\", \"conhec\", \"merc\", \"conceit\", \"relacion\", \"ativ\", \"entrev\", \"indic\", \"dimens\", \"empreend\", \"internac\", \"inform\", \"form\", \"top\", \"superi\", \"matur\", \"curs\", \"aspect\", \"conhec\", \"habil\", \"legitim\", \"prop\", \"estrutur\", \"program\", \"podes\", \"man\", \"ferrament\", \"conclu\", \"filos\\u00f3f\", \"respeit\", \"cr\\u00e9dit\", \"lig\", \"percebeus\", \"autom\", \"antecip\", \"subs\\u00eddi\", \"ide\", \"experi\", \"desencade\", \"aten\\u00e7\", \"escop\", \"jamg\", \"peiex\", \"capac\", \"gest\", \"pr\\u00e1t\", \"din\\u00e2m\", \"gerenc\", \"institu\", \"cooper\", \"comport\", \"associ\", \"risc\", \"lideran\\u00e7\", \"capacit\", \"intelect\", \"stakehold\", \"fus\\u00e3\", \"ensin\", \"sobreviv\", \"context\", \"mecan\", \"ges\", \"desenvolv\", \"te\\u00f3r\", \"percep\\u00e7\", \"franqu\", \"conceit\", \"estil\", \"combin\", \"mudan\\u00e7\", \"merc\", \"cust\", \"recurs\", \"extern\", \"vbr\", \"sucess\", \"industr\", \"cl\\u00e1ss\", \"exteri\", \"compromet\", \"feder\", \"acord\", \"contempl\", \"decl\\u00edni\", \"segment\", \"vincul\", \"mpe\", \"func\", \"tipolog\", \"aerotr\\u00f3pol\", \"mai\", \"distint\", \"desalinh\", \"luz\", \"mobil\", \"estrat\\u00e9g\", \"competi\", \"vantag\", \"firm\", \"question\", \"adot\", \"competit\", \"ambient\", \"compet\", \"alinh\", \"test\", \"adapt\", \"grup\", \"execu\", \"concorr\", \"press\", \"term\", \"formul\", \"survey\", \"compost\", \"sinerg\", \"explor\", \"cult\", \"empr\", \"ges\", \"defin\", \"sucroenerg\\u00e9\", \"sintetiz\", \"export\", \"grau\", \"ifdm\", \"ocup\", \"par\\u00e2metr\", \"proporcion\", \"region\", \"sociedad\", \"univers\", \"ind\\u00fastr\", \"mercadol\\u00f3g\", \"oportun\", \"coopet\", \"comp\\u00f5\", \"ag\\u00eanc\", \"m\\u00e9d\", \"pme\", \"relat\", \"acirr\", \"pesso\", \"aquis\", \"performanc\", \"feedback\", \"divid\", \"g\\u00eaner\", \"dissemin\", \"encontr\", \"theory\", \"inov\", \"desempenh\", \"organizac\", \"model\", \"dimens\", \"produt\", \"empreendedor\", \"servi\\u00e7\", \"diferenci\", \"posi\", \"empresar\", \"efeit\", \"aprendiz\", \"tecnolog\", \"supr\", \"abert\", \"explorat\\u00f3ri\", \"apoi\", \"indic\", \"med\", \"pequen\", \"escal\", \"neg\\u00f3ci\", \"desenvolv\", \"iurd\", \"trip\\u00e9\", \"linkedin\", \"atend\", \"anim\", \"respons\", \"revel\", \"ise\", \"natur\", \"parqu\", \"invest\", \"acess\", \"espa\\u00e7\", \"confian\\u00e7\", \"d\\u00e9c\", \"fgi\", \"interorganizac\", \"mpm\", \"ibiapab\", \"human\", \"percebes\", \"contrat\", \"influenci\", \"confront\", \"equ\\u00edvoc\", \"esf\", \"estrang\", \"subsidi\\u00e1r\", \"especific\", \"retorn\", \"brasil\", \"relacion\", \"ativ\", \"p\\u00fablic\", \"corpor\", \"financ\", \"instituc\", \"efici\", \"governan\\u00e7\", \"pa\\u00eds\", \"administr\", \"determin\", \"quantit\", \"econ\\u00f4m\", \"per\\u00edod\", \"espec\\u00edf\", \"a\\u00e7\\u00f5\", \"banc\", \"endivid\", \"praz\", \"regress\", \"nacion\", \"multinac\", \"possibil\", \"econom\", \"estat\\u00eds\", \"inform\", \"estrut\", \"capit\", \"empr\", \"cresc\", \"conte\\u00fad\", \"envolv\", \"selecion\", \"estabil\", \"teec\", \"selec\", \"client\", \"equip\", \"colabor\", \"ado\\u00e7\", \"ord\", \"tur\\u00eds\", \"desigualdad\", \"a\\u00e7\\u00e3\", \"esfor\\u00e7\", \"fl\", \"miss\", \"agroneg\\u00f3ci\", \"manuten\\u00e7\", \"posicion\", \"interven\\u00e7\", \"hotel\", \"intern\", \"semelh\", \"resenh\", \"font\", \"necess\\u00e1r\", \"metodol\\u00f3g\", \"proporc\", \"cruz\", \"destacas\", \"organiz\", \"entrev\", \"form\", \"particip\", \"instrument\", \"m\\u00faltipl\", \"implement\", \"intelig\", \"observ\", \"tecnol\\u00f3g\", \"sele\\u00e7\", \"desafi\", \"descrev\", \"integr\", \"bsc\", \"mensur\", \"apont\", \"papel\", \"limit\", \"pressupost\", \"profund\", \"produ\", \"fornec\", \"process\", \"decis\", \"semiestrutur\", \"qualit\", \"planej\", \"perspec\", \"empreg\", \"marc\", \"tend\", \"rbv\", \"tct\", \"scienc\", \"abord\", \"fic\", \"inter\", \"l\\u00edd\", \"decid\", \"view\", \"equidad\", \"public\", \"peri\\u00f3d\", \"penros\", \"inser\", \"fraqu\", \"inexist\", \"impact\", \"glob\", \"tur\", \"debat\", \"concluius\", \"complet\", \"mund\", \"profes\", \"prop\\u00f5\", \"solu\\u00e7\", \"predomin\", \"fat\", \"ambi\", \"empreend\", \"internac\", \"sustent\", \"futur\", \"internacion\", \"acad\\u00eam\", \"pol\\u00edt\", \"lacun\", \"produ\\u00e7\", \"teor\", \"management\", \"marketing\", \"bibliom\\u00e9tr\", \"evolu\\u00e7\", \"fator\", \"explorat\\u00f3r\", \"orig\", \"demand\", \"text\", \"escol\", \"complex\", \"inclu\", \"cit\", \"telecomunic\", \"relac\", \"caracter\\u00eds\", \"neg\\u00f3ci\", \"te\\u00f3r\", \"perfil\"], \"Total\": [310.0, 226.0, 125.0, 122.0, 130.0, 100.0, 93.0, 92.0, 89.0, 87.0, 73.0, 66.0, 61.0, 101.0, 62.0, 59.0, 58.0, 55.0, 53.0, 53.0, 53.0, 46.0, 45.0, 43.0, 45.0, 40.0, 37.0, 37.0, 40.0, 36.0, 9.13815062797451, 19.291651325723965, 9.13815062797451, 9.13815062797451, 18.27630125594902, 53.81355369807211, 9.13815062797451, 9.13815062797451, 9.13815062797451, 9.13815062797451, 18.27630125594902, 5.076750348874728, 5.076750348874728, 15.230251046624183, 4.061400279099782, 2.030700139549891, 6.0921004186496726, 8.122800558199565, 2.030700139549891, 2.030700139549891, 2.030700139549891, 2.030700139549891, 2.030700139549891, 2.030700139549891, 11.168850767524402, 2.030700139549891, 3.0460502093248363, 4.061400279099782, 2.030700139549891, 2.030700139549891, 100.51965690771961, 93.412206419295, 59.905654116721784, 35.53725244212309, 29.44515202347342, 29.44515202347342, 26.399101814148583, 24.36840167459869, 23.35305160482375, 22.337701535048804, 22.337701535048804, 15.230251046624183, 15.230251046624183, 14.214900976849238, 13.199550907074292, 12.184200837299345, 12.184200837299345, 42.52740533751058, 15.23079445405848, 43.30816022121127, 101.55837349716927, 56.01742493729236, 15.112953453587053, 8.874231043640963, 53.24538626184578, 8.874231043640963, 8.874231043640963, 26.62269313092289, 53.24538626184578, 20.706539101828913, 58.17551461942409, 17.748462087281926, 8.874231043640963, 7.888205372125301, 9.860256715156627, 3.9441026860626507, 2.958077014546988, 3.9441026860626507, 2.958077014546988, 9.860256715156627, 1.9720513430313253, 2.958077014546988, 4.9301283575783135, 1.9720513430313253, 7.888205372125301, 1.9720513430313253, 6.902179700609638, 1.9720513430313253, 2.958077014546988, 1.9720513430313253, 3.9441026860626507, 3.9441026860626507, 6.902179700609638, 310.59808652743374, 62.11961730548674, 31.552821488501205, 23.664616116375903, 23.664616116375903, 21.69256477334458, 18.73448775879759, 18.73448775879759, 16.762436415766263, 13.804359401219276, 12.818333729703616, 10.84628238667229, 10.84628238667229, 10.84628238667229, 9.860256715156627, 7.888205372125301, 7.888205372125301, 7.888205372125301, 7.888205372125301, 7.888205372125301, 7.888205372125301, 14.827238649240758, 11.850856279305605, 226.4987712749975, 43.30816022121127, 9.890124520850204, 2.031786954418483, 2.031786954418483, 16.254295635347862, 7.11125434046469, 2.031786954418483, 2.031786954418483, 2.031786954418483, 7.11125434046469, 4.063573908836966, 11.174828249301655, 9.143041294883172, 22.34965649860331, 4.063573908836966, 18.286082589766345, 4.063573908836966, 4.063573908836966, 7.11125434046469, 8.127147817673931, 9.143041294883172, 8.127147817673931, 2.031786954418483, 9.143041294883172, 8.127147817673931, 11.174828249301655, 2.031786954418483, 4.063573908836966, 2.031786954418483, 4.063573908836966, 9.143041294883172, 4.063573908836966, 125.97079117394593, 122.9231107423182, 92.44630642604096, 87.36683903999476, 40.635739088369654, 35.55627170232344, 27.42912388464952, 26.413230407440274, 24.38144345302179, 19.301976066975584, 16.254295635347862, 15.238402158138621, 15.238402158138621, 14.22250868092938, 9.143041294883172, 9.143041294883172, 9.143041294883172, 8.127147817673931, 45.703886889839936, 21.333219613959773, 27.36938827326236, 19.21237264989485, 59.10345171925427, 101.55837349716927, 2.009147785266632, 2.009147785266632, 2.009147785266632, 8.036591141066529, 2.009147785266632, 13.059460604233108, 8.036591141066529, 2.009147785266632, 16.073182282133057, 2.009147785266632, 10.04573892633316, 5.02286946316658, 4.018295570533264, 7.032017248433212, 5.02286946316658, 2.009147785266632, 2.009147785266632, 2.009147785266632, 2.009147785266632, 8.036591141066529, 5.02286946316658, 2.009147785266632, 14.064034496866425, 2.009147785266632, 2.009147785266632, 2.009147785266632, 9.041165033699844, 4.018295570533264, 2.009147785266632, 8.036591141066529, 73.33389416223207, 46.210399061132534, 45.205825168499224, 36.16466013479938, 32.146364564266115, 31.141790671632798, 31.141790671632798, 27.123495101099532, 27.123495101099532, 25.1143473158329, 24.109773423199584, 21.096051745299636, 20.09147785266632, 19.086903960033005, 18.08233006739969, 18.08233006739969, 17.07775617476637, 15.06860838949974, 14.064034496866425, 13.059460604233108, 13.059460604233108, 12.054886711599792, 12.054886711599792, 11.050312818966477, 11.050312818966477, 11.050312818966477, 40.20364262578514, 36.175436311941006, 27.134814685675458, 226.4987712749975, 25.1692633819974, 16.09386920258555, 29.732563579488566, 2.0505216261716255, 3.0757824392574378, 2.0505216261716255, 2.0505216261716255, 18.454694635544627, 11.27786894394394, 9.227347317772313, 21.530477074802064, 2.0505216261716255, 2.0505216261716255, 2.0505216261716255, 9.227347317772313, 5.126304065429063, 5.126304065429063, 3.0757824392574378, 4.101043252343251, 6.1515648785148755, 9.227347317772313, 4.101043252343251, 6.1515648785148755, 18.454694635544627, 4.101043252343251, 2.0505216261716255, 12.303129757029751, 5.126304065429063, 13.328390570115566, 2.0505216261716255, 2.0505216261716255, 9.227347317772313, 89.19769073846571, 43.06095414960413, 36.90938927108925, 32.80834601874601, 17.429433822458815, 17.429433822458815, 17.429433822458815, 16.404173009373004, 16.404173009373004, 15.37891219628719, 15.37891219628719, 15.37891219628719, 14.353651383201377, 14.353651383201377, 13.328390570115566, 13.328390570115566, 13.328390570115566, 13.328390570115566, 11.27786894394394, 11.27786894394394, 11.27786894394394, 11.27786894394394, 11.27786894394394, 130.1706539183919, 31.743850064090044, 18.434007715092132, 40.95422850817308, 20.48539477509452, 33.63266799385241, 7.1601547361503775, 7.1601547361503775, 14.320309472300755, 7.1601547361503775, 7.1601547361503775, 7.1601547361503775, 28.64061894460151, 2.045758496042965, 20.45758496042965, 5.114396240107412, 2.045758496042965, 3.0686377440644472, 2.045758496042965, 21.48046420845113, 20.45758496042965, 3.0686377440644472, 2.045758496042965, 2.045758496042965, 4.09151699208593, 21.48046420845113, 6.1372754881288945, 5.114396240107412, 3.0686377440644472, 4.09151699208593, 2.045758496042965, 5.114396240107412, 6.1372754881288945, 5.114396240107412, 3.0686377440644472, 4.09151699208593, 61.37275488128895, 55.235479393160055, 37.84653217679485, 37.84653217679485, 33.755015184708924, 32.73213593668744, 27.617739696580028, 23.5262227044941, 19.434705712408167, 17.3889472163652, 17.3889472163652, 66.48016535058413, 13.297430224279273, 12.274550976257789, 12.274550976257789, 12.274550976257789, 11.251671728236309, 11.251671728236309, 11.251671728236309, 10.228792480214825, 10.228792480214825, 10.228792480214825, 9.205913232193343, 8.18303398417186, 8.18303398417186, 8.18303398417186, 8.18303398417186, 34.794565388180715, 59.10345171925427, 56.01742493729236, 12.237940265481457], \"loglift\": [30.0, 29.0, 28.0, 27.0, 26.0, 25.0, 24.0, 23.0, 22.0, 21.0, 20.0, 19.0, 18.0, 17.0, 16.0, 15.0, 14.0, 13.0, 12.0, 11.0, 10.0, 9.0, 8.0, 7.0, 6.0, 5.0, 4.0, 3.0, 2.0, 1.0, 1.7723, 1.7723, 1.7723, 1.7723, 1.7723, 1.7723, 1.7723, 1.7723, 1.7723, 1.7723, 1.7723, 1.7723, 1.7723, 1.7723, 1.7723, 1.7723, 1.7723, 1.7723, 1.7723, 1.7723, 1.7723, 1.7723, 1.7723, 1.7723, 1.7723, 1.7723, 1.7723, 1.7723, 1.7723, 1.7723, 1.7723, 1.7723, 1.7723, 1.7723, 1.7723, 1.7723, 1.7723, 1.7723, 1.7723, 1.7723, 1.7723, 1.7723, 1.7723, 1.7723, 1.7723, 1.7723, 1.7723, 1.675, 1.7033, 1.4532, 1.2099, 1.2276, 1.4699, 1.7759, 1.7759, 1.7759, 1.7759, 1.7759, 1.7759, 1.7759, 1.7759, 1.7759, 1.7759, 1.7759, 1.7759, 1.7759, 1.7759, 1.7759, 1.7759, 1.7759, 1.7759, 1.7759, 1.7759, 1.7759, 1.7759, 1.7759, 1.7759, 1.7759, 1.7759, 1.7759, 1.7759, 1.7759, 1.7759, 1.7759, 1.7759, 1.7759, 1.7759, 1.7759, 1.7759, 1.7759, 1.7759, 1.7759, 1.7759, 1.7759, 1.7759, 1.7759, 1.7759, 1.7759, 1.7759, 1.7759, 1.7759, 1.7759, 1.7759, 1.7759, 1.7044, 1.6873, 0.7579, 0.4784, 1.6675, 1.7767, 1.7767, 1.7767, 1.7767, 1.7767, 1.7767, 1.7767, 1.7767, 1.7767, 1.7767, 1.7767, 1.7767, 1.7767, 1.7767, 1.7767, 1.7767, 1.7767, 1.7767, 1.7767, 1.7767, 1.7767, 1.7767, 1.7767, 1.7767, 1.7767, 1.7767, 1.7767, 1.7767, 1.7767, 1.7767, 1.7767, 1.7767, 1.7767, 1.7767, 1.7767, 1.7767, 1.7767, 1.7767, 1.7767, 1.7767, 1.7767, 1.7767, 1.7767, 1.7767, 1.7767, 1.7767, 1.7767, 1.7767, 1.7545, 1.7279, 1.7019, 1.6095, 1.1789, 0.933, 1.7802, 1.7802, 1.7802, 1.7802, 1.7802, 1.7802, 1.7802, 1.7802, 1.7802, 1.7802, 1.7802, 1.7802, 1.7802, 1.7802, 1.7802, 1.7802, 1.7802, 1.7802, 1.7802, 1.7802, 1.7802, 1.7802, 1.7802, 1.7802, 1.7802, 1.7802, 1.7802, 1.7802, 1.7802, 1.7802, 1.7802, 1.7802, 1.7802, 1.7802, 1.7802, 1.7802, 1.7802, 1.7802, 1.7802, 1.7802, 1.7802, 1.7802, 1.7802, 1.7802, 1.7802, 1.7802, 1.7802, 1.7802, 1.7802, 1.7802, 1.7802, 1.7802, 1.7802, 1.7802, 1.7802, 1.7802, 1.7543, 1.7517, 1.742, 1.3318, 1.6501, 1.7143, 1.802, 1.802, 1.802, 1.802, 1.802, 1.802, 1.802, 1.802, 1.802, 1.802, 1.802, 1.802, 1.802, 1.802, 1.802, 1.802, 1.802, 1.802, 1.802, 1.802, 1.802, 1.802, 1.802, 1.802, 1.802, 1.802, 1.802, 1.802, 1.802, 1.802, 1.802, 1.802, 1.802, 1.802, 1.802, 1.802, 1.802, 1.802, 1.802, 1.802, 1.802, 1.802, 1.802, 1.802, 1.802, 1.802, 1.802, 1.802, 1.802, 1.802, 1.802, 1.802, 1.802, 1.7703, 1.7705, 1.746, 1.6409, 1.6976, 1.5696, 1.8454, 1.8454, 1.8454, 1.8454, 1.8454, 1.8454, 1.8454, 1.8454, 1.8454, 1.8454, 1.8454, 1.8454, 1.8454, 1.8454, 1.8454, 1.8454, 1.8454, 1.8454, 1.8454, 1.8454, 1.8454, 1.8454, 1.8454, 1.8454, 1.8454, 1.8454, 1.8454, 1.8454, 1.8454, 1.8454, 1.8454, 1.8454, 1.8454, 1.8454, 1.8454, 1.8454, 1.8454, 1.8454, 1.8454, 1.8454, 1.8454, 1.83, 1.8454, 1.8454, 1.8454, 1.8454, 1.8454, 1.8454, 1.8454, 1.8454, 1.8454, 1.8454, 1.8454, 1.8454, 1.8454, 1.8454, 1.8454, 1.6144, 1.0468, 0.9779, 1.6661], \"logprob\": [30.0, 29.0, 28.0, 27.0, 26.0, 25.0, 24.0, 23.0, 22.0, 21.0, 20.0, 19.0, 18.0, 17.0, 16.0, 15.0, 14.0, 13.0, 12.0, 11.0, 10.0, 9.0, 8.0, 7.0, 6.0, 5.0, 4.0, 3.0, 2.0, 1.0, -5.0626, -4.3154, -5.0626, -5.0626, -4.3694, -3.2895, -5.0626, -5.0626, -5.0626, -5.0626, -4.3694, -5.6504, -5.6504, -4.5518, -5.8735, -6.5667, -5.4681, -5.1804, -6.5667, -6.5667, -6.5667, -6.5667, -6.5667, -6.5667, -4.8619, -6.5667, -6.1612, -5.8735, -6.5667, -6.5667, -2.6647, -2.738, -3.1823, -3.7045, -3.8925, -3.8925, -4.0017, -4.0818, -4.1243, -4.1688, -4.1688, -4.5518, -4.5518, -4.6208, -4.6949, -4.7749, -4.7749, -3.6222, -4.6208, -3.8258, -3.2168, -3.7941, -4.8619, -5.0883, -3.2965, -5.0883, -5.0883, -3.9897, -3.2965, -4.241, -3.208, -4.3951, -5.0883, -5.2061, -4.9829, -5.8992, -6.1869, -5.8992, -6.1869, -4.9829, -6.5924, -6.1869, -5.6761, -6.5924, -5.2061, -6.5924, -5.3396, -6.5924, -6.1869, -6.5924, -5.8992, -5.8992, -5.3396, -1.5329, -3.1424, -3.8198, -4.1075, -4.1075, -4.1945, -4.3411, -4.3411, -4.4523, -4.6464, -4.7206, -4.8876, -4.8876, -4.8876, -4.9829, -5.2061, -5.2061, -5.2061, -5.2061, -5.2061, -5.2061, -4.6464, -4.8876, -2.8667, -4.8006, -5.0883, -6.5617, -6.5617, -4.4823, -5.309, -6.5617, -6.5617, -6.5617, -5.309, -5.8686, -4.857, -5.0577, -4.1638, -5.8686, -4.3645, -5.8686, -5.8686, -5.309, -5.1754, -5.0577, -5.1754, -6.5617, -5.0577, -5.1754, -4.857, -6.5617, -5.8686, -6.5617, -5.8686, -5.0577, -5.8686, -2.4346, -2.4591, -2.744, -2.8005, -3.566, -3.6995, -3.959, -3.9968, -4.0768, -4.3104, -4.4823, -4.5468, -4.5468, -4.6158, -5.0577, -5.0577, -5.0577, -5.1754, -3.4707, -4.2592, -4.036, -4.4823, -3.7891, -3.4937, -6.5695, -6.5695, -6.5695, -5.1832, -6.5695, -4.6977, -5.1832, -6.5695, -4.49, -6.5695, -4.96, -5.6532, -5.8763, -5.3167, -5.6532, -6.5695, -6.5695, -6.5695, -6.5695, -5.1832, -5.6532, -6.5695, -4.6236, -6.5695, -6.5695, -6.5695, -5.0654, -5.8763, -6.5695, -5.1832, -2.9722, -3.434, -3.456, -3.6791, -3.7969, -3.8286, -3.8286, -3.9668, -3.9668, -4.0438, -4.0846, -4.2181, -4.2669, -4.3182, -4.3723, -4.3723, -4.4294, -4.5546, -4.6236, -4.6977, -4.6977, -4.7777, -4.7777, -4.8647, -4.8647, -4.8647, -3.5991, -3.7073, -4.0045, -2.2928, -4.1716, -4.5546, -3.8531, -6.5272, -6.1218, -6.5272, -6.5272, -4.33, -4.8225, -5.0231, -4.1759, -6.5272, -6.5272, -6.5272, -5.0231, -5.6109, -5.6109, -6.1218, -5.8341, -5.4286, -5.0231, -5.8341, -5.4286, -4.33, -5.8341, -6.5272, -4.7355, -5.6109, -4.6554, -6.5272, -6.5272, -5.0231, -2.7545, -3.4827, -3.6369, -3.7546, -4.3872, -4.3872, -4.3872, -4.4478, -4.4478, -4.5123, -4.5123, -4.5123, -4.5813, -4.5813, -4.6554, -4.6554, -4.6554, -4.6554, -4.8225, -4.8225, -4.8225, -4.8225, -4.8225, -2.4082, -3.8192, -4.3872, -3.694, -4.33, -3.9623, -5.2334, -5.2334, -4.5403, -5.2334, -5.2334, -5.2334, -3.8471, -6.4862, -4.1836, -5.5699, -6.4862, -6.0807, -6.4862, -4.1348, -4.1836, -6.0807, -6.4862, -6.4862, -5.793, -4.1348, -5.3875, -5.5699, -6.0807, -5.793, -6.4862, -5.5699, -5.3875, -5.5699, -6.0807, -5.793, -3.085, -3.1903, -3.5684, -3.5684, -3.6828, -3.7136, -3.8835, -4.0438, -4.2349, -4.3461, -4.3461, -3.0204, -4.6144, -4.6944, -4.6944, -4.6944, -4.7814, -4.7814, -4.7814, -4.8767, -4.8767, -4.8767, -4.9821, -5.0999, -5.0999, -5.0999, -5.0999, -3.8835, -3.9212, -4.0438, -4.8767]}, \"token.table\": {\"Topic\": [3, 6, 6, 4, 3, 2, 2, 4, 2, 5, 2, 5, 3, 2, 6, 2, 4, 1, 3, 5, 3, 3, 1, 1, 4, 1, 4, 1, 5, 4, 4, 6, 4, 5, 1, 1, 3, 4, 5, 6, 6, 5, 2, 5, 2, 2, 2, 2, 6, 6, 1, 2, 2, 3, 2, 1, 6, 2, 4, 4, 1, 2, 1, 2, 4, 5, 4, 1, 3, 4, 4, 6, 5, 1, 2, 4, 1, 2, 6, 6, 2, 5, 2, 2, 3, 6, 5, 2, 5, 3, 1, 1, 3, 5, 5, 4, 3, 3, 1, 3, 2, 3, 4, 4, 4, 3, 4, 2, 4, 6, 3, 6, 3, 3, 4, 1, 5, 5, 6, 5, 4, 2, 3, 6, 1, 4, 5, 4, 4, 4, 5, 4, 2, 4, 2, 1, 4, 1, 6, 2, 1, 2, 6, 6, 3, 3, 2, 2, 6, 6, 2, 3, 1, 4, 6, 1, 4, 2, 5, 5, 5, 2, 5, 2, 6, 2, 1, 6, 1, 1, 2, 1, 6, 4, 3, 2, 3, 1, 5, 4, 4, 1, 3, 6, 5, 6, 3, 4, 2, 3, 6, 4, 4, 5, 3, 6, 1, 4, 5, 5, 1, 5, 6, 5, 6, 6, 4, 5, 4, 4, 4, 1, 6, 1, 1, 1, 5, 4, 2, 6, 2, 1, 6, 5, 6, 6, 1, 1, 3, 1, 3, 5, 2, 3, 5, 5, 2, 3, 2, 4, 2, 4, 6, 3, 5, 4, 4, 5, 3, 6, 5, 3, 3, 5, 5, 3, 6, 5, 4, 5, 3, 4, 1, 6, 2, 3, 4, 1, 1, 2, 4, 6, 3, 6, 2, 5, 6, 4, 3, 1, 5, 3, 1, 6, 3, 5, 4, 4, 6, 2, 5, 3, 5, 5, 3, 6, 6, 5, 1, 1, 5, 3, 6, 1, 6, 4, 3, 5, 4, 2, 6, 2, 3, 4, 6, 4, 3, 5, 1, 4, 4, 4, 1, 6, 2, 5, 5, 5, 5, 4, 5, 3, 2, 3, 1, 3, 6, 1, 4, 1, 2, 3, 1, 3, 2, 6, 6, 3, 5, 5, 6, 6, 3, 6, 2, 2, 6, 1, 6, 3, 2, 1, 4, 6, 5, 3, 2, 2, 6, 2], \"Freq\": [0.9843551734844265, 1.012547950031863, 1.020138264499868, 0.9954469326080869, 0.9843551734844264, 1.0141723779492036, 1.0141723779492038, 0.9954469326080868, 1.0141723779492038, 1.0218073628172148, 1.0141723779492038, 0.9753615735982504, 0.9843551734844264, 1.0141723779492038, 0.9957368090990224, 1.0141723779492036, 0.9954469326080868, 0.984881992692089, 0.9843551734844264, 0.9753615735982504, 0.9843551734844264, 0.9843551734844264, 0.9848819926920891, 0.9848819926920889, 0.9954469326080868, 0.9848819926920891, 0.9954469326080868, 0.984881992692089, 0.9753615735982506, 0.9954469326080869, 0.9954469326080868, 0.9776325034790403, 0.9954469326080868, 0.9753615735982504, 1.0047785986050606, 0.9848819926920891, 0.036853024853267295, 0.9581786461849496, 0.20118084309734802, 0.8047233723893921, 0.9776325034790402, 0.9753615735982506, 1.0141723779492038, 0.9753615735982506, 1.0141723779492038, 1.0141723779492038, 0.9980744036960418, 1.0141723779492036, 0.9776325034790402, 0.9776325034790402, 0.9848819926920891, 1.0141723779492038, 1.0141723779492038, 0.9843551734844264, 0.9953914079871815, 0.984881992692089, 0.9776325034790402, 1.0141723779492036, 0.9954469326080868, 0.9954469326080868, 1.003464671799487, 1.0141723779492038, 0.9170557124396373, 0.09405699614765511, 0.9320319316122057, 0.06213546210748038, 0.9954469326080868, 0.9848819926920891, 0.9843551734844264, 0.9954469326080868, 0.8740819970017775, 0.11919299959115148, 0.9753615735982504, 0.984881992692089, 0.9282029703801741, 0.08438208821637946, 0.9848819926920891, 1.0141723779492038, 0.9776325034790403, 0.9776325034790402, 0.03150216492268659, 0.9765671126032844, 1.0141723779492038, 0.9099986538113188, 0.10111096153459098, 0.9776325034790402, 0.9753615735982505, 1.0141723779492038, 0.9753615735982505, 1.0006255069304502, 0.984881992692089, 0.5711001269788614, 0.4332483721908604, 0.9753615735982504, 0.9753615735982506, 0.9954469326080868, 0.9843551734844265, 1.0089640528215371, 1.0130214781975775, 0.9843551734844264, 1.0141723779492038, 0.9843551734844264, 0.9954469326080869, 0.9954469326080868, 0.9954469326080868, 0.9843551734844264, 0.9954469326080868, 0.3620328690456421, 0.6401800733124158, 1.0040550035730682, 0.9843551734844264, 0.9776325034790402, 0.9843551734844264, 0.9843551734844265, 0.9954469326080868, 0.9848819926920891, 0.9985844682077327, 1.008994731308535, 0.9776325034790402, 0.9753615735982505, 0.9954469326080868, 0.15614937596041367, 0.832796671788873, 0.9776325034790402, 0.984881992692089, 0.9954469326080868, 0.9753615735982505, 0.9954469326080868, 0.9954469326080868, 0.9954469326080868, 0.9753615735982506, 0.9954469326080868, 1.0141723779492038, 0.9954469326080868, 1.0012939985466742, 0.027643066731165147, 0.9675073355907802, 0.9848819926920891, 0.9776325034790403, 1.0141723779492038, 0.9848819926920889, 0.9442081786898926, 0.06744344133499233, 0.9776325034790401, 0.9843551734844265, 0.9843551734844264, 1.0141723779492038, 1.0141723779492038, 0.9939263785370243, 0.9776325034790401, 1.0141723779492038, 0.9843551734844264, 0.9848819926920891, 0.9954469326080868, 0.9776325034790402, 0.984881992692089, 0.9954469326080868, 1.0141723779492038, 0.9753615735982505, 0.9753615735982506, 1.0024549506426463, 1.0141723779492038, 0.9753615735982505, 1.0141723779492038, 0.9776325034790402, 1.0141723779492038, 0.9848819926920891, 1.0081835192127602, 0.9848819926920891, 0.7158004367227072, 0.2770840400216931, 0.9955872317430898, 0.9776325034790403, 0.9954469326080868, 0.9843551734844264, 1.0141723779492038, 0.9843551734844264, 0.9848819926920891, 0.9753615735982506, 0.9954469326080868, 0.9954469326080868, 0.984881992692089, 0.9843551734844264, 0.9776325034790402, 0.9753615735982505, 0.9776325034790402, 0.984598970946683, 0.021879977132148513, 1.0141723779492036, 0.9843551734844265, 0.9776325034790402, 0.9954469326080868, 0.9700613539676335, 0.024873368050452142, 1.0002318698309494, 0.9776325034790402, 0.9848819926920891, 0.9954469326080868, 0.9753615735982505, 0.9753615735982505, 0.9848819926920891, 0.9753615735982504, 0.9776325034790402, 0.9753615735982506, 1.0040550035730682, 1.0138411147190047, 0.9954469326080868, 0.9753615735982504, 0.9954469326080869, 0.9954469326080868, 0.9954469326080868, 0.984881992692089, 0.9776325034790404, 0.9848819926920891, 0.9848819926920889, 0.984881992692089, 0.9753615735982505, 0.9954469326080868, 1.0141723779492038, 0.9776325034790402, 1.0141723779492038, 0.984881992692089, 0.9776325034790402, 0.9753615735982506, 0.9776325034790402, 0.9776325034790403, 0.9848819926920891, 0.9191903969440993, 0.06565645692457853, 0.04687524987300239, 0.9375049974600478, 0.9753615735982504, 0.9953914079871815, 0.9843551734844264, 0.9753615735982504, 0.9753615735982506, 1.0141723779492038, 0.9958011638737803, 1.0141723779492038, 0.9954469326080868, 1.0141723779492038, 0.9954469326080868, 0.9776325034790402, 0.9843551734844264, 0.9753615735982505, 0.9954469326080868, 0.9954469326080868, 0.9753615735982505, 0.5583430246468924, 0.45682611107473015, 0.9753615735982504, 0.9843551734844264, 0.9843551734844265, 0.9753615735982504, 0.9977836787384401, 0.9951722633029366, 0.9776325034790401, 0.9753615735982504, 0.9954469326080868, 1.0058416227731957, 0.9843551734844264, 0.9954469326080868, 0.984881992692089, 0.9776325034790403, 0.07307434057464249, 0.9134292571830311, 0.9954469326080869, 0.984881992692089, 0.7278524369033343, 0.2646736134193943, 0.16342619400106356, 0.8171309700053179, 0.9843551734844265, 0.9776325034790402, 0.14866498253763072, 0.8027909057032059, 0.05946599301505229, 0.9954469326080868, 0.9843551734844265, 0.09763053248217288, 0.8786747923395559, 0.9843551734844265, 0.984881992692089, 0.9776325034790402, 0.9843551734844266, 0.9753615735982506, 0.9954469326080868, 0.9954469326080869, 0.9776325034790402, 1.0141723779492038, 0.9753615735982505, 0.03072889226251968, 0.9679601062693699, 0.9753615735982505, 1.012479607012553, 0.9776325034790404, 0.9776325034790403, 0.9753615735982505, 0.9848819926920891, 0.9848819926920891, 0.9753615735982504, 0.9843551734844264, 0.9776325034790402, 1.0015749078224634, 0.9776325034790402, 0.9954469326080868, 0.146505018371976, 0.85461260716986, 0.9954469326080869, 1.0141723779492038, 0.9776325034790402, 0.9969830156110817, 0.9843551734844264, 0.9954469326080869, 0.9776325034790402, 0.9954469326080869, 0.9843551734844264, 0.9753615735982504, 0.9848819926920891, 0.9954469326080869, 0.9954469326080868, 0.9954469326080868, 0.9848819926920889, 0.9776325034790402, 1.0141723779492036, 0.9753615735982504, 0.9753615735982504, 0.9753615735982505, 0.9753615735982504, 0.054247563278455646, 0.9222085757337459, 0.9843551734844265, 1.0141723779492038, 0.9843551734844264, 0.9848819926920891, 0.9843551734844265, 0.9776325034790403, 0.984881992692089, 0.9954469326080868, 0.984881992692089, 1.0141723779492038, 0.9843551734844264, 0.9848819926920891, 0.9843551734844265, 1.0141723779492038, 1.0072577308571928, 0.9776325034790402, 0.9843551734844264, 0.9753615735982505, 0.9753615735982504, 0.9776325034790402, 0.9776325034790402, 0.015042080517196148, 0.9777352336177496, 1.0141723779492038, 1.0141723779492036, 0.9776325034790402, 0.5712508212546683, 0.4284381159410013, 0.9843551734844264, 1.0141723779492038, 0.9848819926920891, 0.9954469326080868, 0.9776325034790402, 0.9753615735982504, 0.9843551734844265, 1.0141723779492038, 1.0141723779492038, 0.9776325034790403, 1.0141723779492038], \"Term\": [\"abert\", \"abord\", \"acad\\u00eam\", \"acess\", \"acirr\", \"acord\", \"adapt\", \"administr\", \"adot\", \"ado\\u00e7\", \"aerotr\\u00f3pol\", \"agroneg\\u00f3ci\", \"ag\\u00eanc\", \"alinh\", \"ambi\", \"ambient\", \"anim\", \"antecip\", \"apoi\", \"apont\", \"aprendiz\", \"aquis\", \"aspect\", \"associ\", \"atend\", \"aten\\u00e7\", \"ativ\", \"autom\", \"a\\u00e7\\u00e3\", \"a\\u00e7\\u00f5\", \"banc\", \"bibliom\\u00e9tr\", \"brasil\", \"bsc\", \"capac\", \"capacit\", \"capit\", \"capit\", \"caracter\\u00eds\", \"caracter\\u00eds\", \"cit\", \"client\", \"cl\\u00e1ss\", \"colabor\", \"combin\", \"compet\", \"competi\", \"competit\", \"complet\", \"complex\", \"comport\", \"compost\", \"compromet\", \"comp\\u00f5\", \"conceit\", \"conclu\", \"concluius\", \"concorr\", \"confian\\u00e7\", \"confront\", \"conhec\", \"contempl\", \"context\", \"context\", \"conte\\u00fad\", \"conte\\u00fad\", \"contrat\", \"cooper\", \"coopet\", \"corpor\", \"cresc\", \"cresc\", \"cruz\", \"cr\\u00e9dit\", \"cult\", \"cult\", \"curs\", \"cust\", \"debat\", \"decid\", \"decis\", \"decis\", \"decl\\u00edni\", \"defin\", \"defin\", \"demand\", \"desafi\", \"desalinh\", \"descrev\", \"desempenh\", \"desencade\", \"desenvolv\", \"desenvolv\", \"desigualdad\", \"destacas\", \"determin\", \"diferenci\", \"dimens\", \"din\\u00e2m\", \"dissemin\", \"distint\", \"divid\", \"d\\u00e9c\", \"econom\", \"econ\\u00f4m\", \"efeit\", \"efici\", \"empr\", \"empr\", \"empreend\", \"empreendedor\", \"empreg\", \"empresar\", \"encontr\", \"endivid\", \"ensin\", \"entrev\", \"envolv\", \"equidad\", \"equip\", \"equ\\u00edvoc\", \"escal\", \"escal\", \"escol\", \"escop\", \"esf\", \"esfor\\u00e7\", \"espa\\u00e7\", \"especific\", \"espec\\u00edf\", \"estabil\", \"estat\\u00eds\", \"estil\", \"estrang\", \"estrat\\u00e9g\", \"estrut\", \"estrut\", \"estrutur\", \"evolu\\u00e7\", \"execu\", \"experi\", \"explor\", \"explor\", \"explorat\\u00f3r\", \"explorat\\u00f3ri\", \"export\", \"exteri\", \"extern\", \"fat\", \"fator\", \"feder\", \"feedback\", \"ferrament\", \"fgi\", \"fic\", \"filos\\u00f3f\", \"financ\", \"firm\", \"fl\", \"font\", \"form\", \"formul\", \"fornec\", \"franqu\", \"fraqu\", \"func\", \"fus\\u00e3\", \"futur\", \"gerenc\", \"ges\", \"ges\", \"gest\", \"glob\", \"governan\\u00e7\", \"grau\", \"grup\", \"g\\u00eaner\", \"habil\", \"hotel\", \"human\", \"ibiapab\", \"ide\", \"ifdm\", \"impact\", \"implement\", \"inclu\", \"indic\", \"indic\", \"industr\", \"ind\\u00fastr\", \"inexist\", \"influenci\", \"inform\", \"inform\", \"inov\", \"inser\", \"institu\", \"instituc\", \"instrument\", \"integr\", \"intelect\", \"intelig\", \"inter\", \"intern\", \"internac\", \"internacion\", \"interorganizac\", \"interven\\u00e7\", \"invest\", \"ise\", \"iurd\", \"jamg\", \"lacun\", \"legitim\", \"lideran\\u00e7\", \"lig\", \"limit\", \"linkedin\", \"luz\", \"l\\u00edd\", \"mai\", \"man\", \"management\", \"manuten\\u00e7\", \"marc\", \"marketing\", \"matur\", \"mecan\", \"mecan\", \"med\", \"med\", \"mensur\", \"merc\", \"mercadol\\u00f3g\", \"metodol\\u00f3g\", \"miss\", \"mobil\", \"model\", \"mpe\", \"mpm\", \"mudan\\u00e7\", \"multinac\", \"mund\", \"m\\u00e9d\", \"m\\u00faltipl\", \"nacion\", \"natur\", \"necess\\u00e1r\", \"neg\\u00f3ci\", \"neg\\u00f3ci\", \"observ\", \"ocup\", \"oportun\", \"ord\", \"organiz\", \"organizac\", \"orig\", \"papel\", \"parqu\", \"particip\", \"par\\u00e2metr\", \"pa\\u00eds\", \"peiex\", \"penros\", \"pequen\", \"pequen\", \"percebes\", \"percebeus\", \"percep\\u00e7\", \"percep\\u00e7\", \"perfil\", \"perfil\", \"performanc\", \"peri\\u00f3d\", \"perspec\", \"perspec\", \"perspec\", \"per\\u00edod\", \"pesso\", \"planej\", \"planej\", \"pme\", \"podes\", \"pol\\u00edt\", \"posi\", \"posicion\", \"possibil\", \"praz\", \"predomin\", \"press\", \"pressupost\", \"process\", \"process\", \"produ\", \"produt\", \"produ\\u00e7\", \"profes\", \"profund\", \"program\", \"prop\", \"proporc\", \"proporcion\", \"prop\\u00f5\", \"pr\\u00e1t\", \"public\", \"p\\u00fablic\", \"qualit\", \"qualit\", \"quantit\", \"question\", \"rbv\", \"recurs\", \"region\", \"regress\", \"relac\", \"relacion\", \"relat\", \"resenh\", \"respeit\", \"respons\", \"retorn\", \"revel\", \"risc\", \"scienc\", \"segment\", \"selec\", \"selecion\", \"sele\\u00e7\", \"semelh\", \"semiestrutur\", \"semiestrutur\", \"servi\\u00e7\", \"sinerg\", \"sintetiz\", \"sobreviv\", \"sociedad\", \"solu\\u00e7\", \"stakehold\", \"subsidi\\u00e1r\", \"subs\\u00eddi\", \"sucess\", \"sucroenerg\\u00e9\", \"superi\", \"supr\", \"survey\", \"sustent\", \"tct\", \"tecnolog\", \"tecnol\\u00f3g\", \"teec\", \"telecomunic\", \"tend\", \"teor\", \"teor\", \"term\", \"test\", \"text\", \"te\\u00f3r\", \"te\\u00f3r\", \"theory\", \"tipolog\", \"top\", \"trip\\u00e9\", \"tur\", \"tur\\u00eds\", \"univers\", \"vantag\", \"vbr\", \"view\", \"vincul\"]}, \"R\": 30, \"lambda.step\": 0.01, \"plot.opts\": {\"xlab\": \"PC1\", \"ylab\": \"PC2\"}, \"topic.order\": [4, 1, 2, 5, 3, 6]};\n",
       "\n",
       "function LDAvis_load_lib(url, callback){\n",
       "  var s = document.createElement('script');\n",
       "  s.src = url;\n",
       "  s.async = true;\n",
       "  s.onreadystatechange = s.onload = callback;\n",
       "  s.onerror = function(){console.warn(\"failed to load library \" + url);};\n",
       "  document.getElementsByTagName(\"head\")[0].appendChild(s);\n",
       "}\n",
       "\n",
       "if(typeof(LDAvis) !== \"undefined\"){\n",
       "   // already loaded: just create the visualization\n",
       "   !function(LDAvis){\n",
       "       new LDAvis(\"#\" + \"ldavis_el262121397630541184968550340529\", ldavis_el262121397630541184968550340529_data);\n",
       "   }(LDAvis);\n",
       "}else if(typeof define === \"function\" && define.amd){\n",
       "   // require.js is available: use it to load d3/LDAvis\n",
       "   require.config({paths: {d3: \"https://cdnjs.cloudflare.com/ajax/libs/d3/3.5.5/d3.min\"}});\n",
       "   require([\"d3\"], function(d3){\n",
       "      window.d3 = d3;\n",
       "      LDAvis_load_lib(\"https://cdn.rawgit.com/bmabey/pyLDAvis/files/ldavis.v1.0.0.js\", function(){\n",
       "        new LDAvis(\"#\" + \"ldavis_el262121397630541184968550340529\", ldavis_el262121397630541184968550340529_data);\n",
       "      });\n",
       "    });\n",
       "}else{\n",
       "    // require.js not available: dynamically load d3 & LDAvis\n",
       "    LDAvis_load_lib(\"https://cdnjs.cloudflare.com/ajax/libs/d3/3.5.5/d3.min.js\", function(){\n",
       "         LDAvis_load_lib(\"https://cdn.rawgit.com/bmabey/pyLDAvis/files/ldavis.v1.0.0.js\", function(){\n",
       "                 new LDAvis(\"#\" + \"ldavis_el262121397630541184968550340529\", ldavis_el262121397630541184968550340529_data);\n",
       "            })\n",
       "         });\n",
       "}\n",
       "</script>"
      ],
      "text/plain": [
       "PreparedData(topic_coordinates=              x         y  topics  cluster       Freq\n",
       "topic                                                \n",
       "3      0.113037 -0.265247       1        1  16.994207\n",
       "0     -0.275932 -0.071169       2        1  16.932809\n",
       "1      0.221234 -0.018665       3        1  16.919601\n",
       "4     -0.296769  0.028569       4        1  16.861139\n",
       "2      0.084299  0.391983       5        1  16.496369\n",
       "5      0.154130 -0.065470       6        1  15.795875, topic_info=    Category        Freq         Term       Total  loglift  logprob\n",
       "4    Default  310.000000     estratég  310.000000  30.0000  30.0000\n",
       "33   Default  226.000000         empr  226.000000  29.0000  29.0000\n",
       "201  Default  125.000000         inov  125.000000  28.0000  28.0000\n",
       "27   Default  122.000000    desempenh  122.000000  27.0000  27.0000\n",
       "72   Default  130.000000      process  130.000000  26.0000  26.0000\n",
       "22   Default  100.000000        capac  100.000000  25.0000  25.0000\n",
       "93   Default   93.000000         gest   93.000000  24.0000  24.0000\n",
       "9    Default   92.000000    organizac   92.000000  23.0000  23.0000\n",
       "98   Default   89.000000      organiz   89.000000  22.0000  22.0000\n",
       "67   Default   87.000000        model   87.000000  21.0000  21.0000\n",
       "21   Default   73.000000       brasil   73.000000  20.0000  20.0000\n",
       "46   Default   66.000000         teor   66.000000  19.0000  19.0000\n",
       "38   Default   61.000000          fat   61.000000  18.0000  18.0000\n",
       "28   Default  101.000000    desenvolv  101.000000  17.0000  17.0000\n",
       "82   Default   62.000000      competi   62.000000  16.0000  16.0000\n",
       "15   Default   59.000000         prát   59.000000  15.0000  15.0000\n",
       "318  Default   58.000000       recurs   58.000000  14.0000  14.0000\n",
       "19   Default   55.000000         ambi   55.000000  13.0000  13.0000\n",
       "109  Default   53.000000       conhec   53.000000  12.0000  12.0000\n",
       "66   Default   53.000000         merc   53.000000  11.0000  11.0000\n",
       "53   Default   53.000000      conceit   53.000000  10.0000  10.0000\n",
       "44   Default   46.000000     relacion   46.000000   9.0000   9.0000\n",
       "193  Default   45.000000         ativ   45.000000   8.0000   8.0000\n",
       "34   Default   43.000000       entrev   43.000000   7.0000   7.0000\n",
       "64   Default   45.000000        indic   45.000000   6.0000   6.0000\n",
       "86   Default   40.000000       dimens   40.000000   5.0000   5.0000\n",
       "87   Default   37.000000     empreend   37.000000   4.0000   4.0000\n",
       "358  Default   37.000000     internac   37.000000   3.0000   3.0000\n",
       "176  Default   40.000000       inform   40.000000   2.0000   2.0000\n",
       "331  Default   36.000000         form   36.000000   1.0000   1.0000\n",
       "..       ...         ...          ...         ...      ...      ...\n",
       "19    Topic6   55.235479         ambi   55.235479   1.8454  -3.1903\n",
       "87    Topic6   37.846532     empreend   37.846532   1.8454  -3.5684\n",
       "358   Topic6   37.846532     internac   37.846532   1.8454  -3.5684\n",
       "103   Topic6   33.755015      sustent   33.755015   1.8454  -3.6828\n",
       "6     Topic6   32.732136        futur   32.732136   1.8454  -3.7136\n",
       "359   Topic6   27.617740  internacion   27.617740   1.8454  -3.8835\n",
       "106   Topic6   23.526223       acadêm   23.526223   1.8454  -4.0438\n",
       "70    Topic6   19.434706        polít   19.434706   1.8454  -4.2349\n",
       "96    Topic6   17.388947        lacun   17.388947   1.8454  -4.3461\n",
       "120   Topic6   17.388947       produç   17.388947   1.8454  -4.3461\n",
       "46    Topic6   65.464272         teor   66.480165   1.8300  -3.0204\n",
       "556   Topic6   13.297430   management   13.297430   1.8454  -4.6144\n",
       "538   Topic6   12.274551    marketing   12.274551   1.8454  -4.6944\n",
       "531   Topic6   12.274551   bibliométr   12.274551   1.8454  -4.6944\n",
       "5     Topic6   12.274551       evoluç   12.274551   1.8454  -4.6944\n",
       "536   Topic6   11.251672        fator   11.251672   1.8454  -4.7814\n",
       "330   Topic6   11.251672   exploratór   11.251672   1.8454  -4.7814\n",
       "229   Topic6   11.251672         orig   11.251672   1.8454  -4.7814\n",
       "371   Topic6   10.228792       demand   10.228792   1.8454  -4.8767\n",
       "234   Topic6   10.228792         text   10.228792   1.8454  -4.8767\n",
       "140   Topic6   10.228792        escol   10.228792   1.8454  -4.8767\n",
       "23    Topic6    9.205913      complex    9.205913   1.8454  -4.9821\n",
       "618   Topic6    8.183034        inclu    8.183034   1.8454  -5.0999\n",
       "532   Topic6    8.183034          cit    8.183034   1.8454  -5.0999\n",
       "76    Topic6    8.183034  telecomunic    8.183034   1.8454  -5.0999\n",
       "232   Topic6    8.183034        relac    8.183034   1.8454  -5.0999\n",
       "51    Topic6   27.617740   caracterís   34.794565   1.6144  -3.8835\n",
       "97    Topic6   26.594860       negóci   59.103452   1.0468  -3.9212\n",
       "17    Topic6   23.526223         teór   56.017425   0.9779  -4.0438\n",
       "452   Topic6   10.228792       perfil   12.237940   1.6661  -4.8767\n",
       "\n",
       "[375 rows x 6 columns], token_table=      Topic      Freq         Term\n",
       "term                              \n",
       "237       3  0.984355        abert\n",
       "382       6  1.012548        abord\n",
       "106       6  1.020138       acadêm\n",
       "684       4  0.995447        acess\n",
       "484       3  0.984355        acirr\n",
       "438       2  1.014172        acord\n",
       "652       2  1.014172        adapt\n",
       "18        4  0.995447    administr\n",
       "212       2  1.014172         adot\n",
       "603       5  1.021807         adoç\n",
       "559       2  1.014172   aerotrópol\n",
       "296       5  0.975362   agronegóci\n",
       "439       3  0.984355        agênc\n",
       "238       2  1.014172        alinh\n",
       "19        6  0.995737         ambi\n",
       "20        2  1.014172      ambient\n",
       "633       4  0.995447         anim\n",
       "326       1  0.984882      antecip\n",
       "49        3  0.984355         apoi\n",
       "781       5  0.975362        apont\n",
       "161       3  0.984355     aprendiz\n",
       "522       3  0.984355        aquis\n",
       "129       1  0.984882       aspect\n",
       "107       1  0.984882       associ\n",
       "367       4  0.995447        atend\n",
       "327       1  0.984882        atenç\n",
       "193       4  0.995447         ativ\n",
       "368       1  0.984882        autom\n",
       "593       5  0.975362          açã\n",
       "130       4  0.995447          açõ\n",
       "...     ...       ...          ...\n",
       "458       2  1.014172       sucess\n",
       "1022      3  0.984355  sucroenergé\n",
       "322       1  0.984882       superi\n",
       "126       3  0.984355         supr\n",
       "679       2  1.014172       survey\n",
       "103       6  1.007258      sustent\n",
       "731       6  0.977633          tct\n",
       "127       3  0.984355     tecnolog\n",
       "551       5  0.975362     tecnológ\n",
       "622       5  0.975362         teec\n",
       "76        6  0.977633  telecomunic\n",
       "345       6  0.977633         tend\n",
       "46        3  0.015042         teor\n",
       "46        6  0.977735         teor\n",
       "363       2  1.014172         term\n",
       "806       2  1.014172         test\n",
       "234       6  0.977633         text\n",
       "17        1  0.571251         teór\n",
       "17        6  0.428438         teór\n",
       "254       3  0.984355       theory\n",
       "552       2  1.014172      tipolog\n",
       "235       1  0.984882          top\n",
       "323       4  0.995447        tripé\n",
       "601       6  0.977633          tur\n",
       "602       5  0.975362        turís\n",
       "281       3  0.984355      univers\n",
       "380       2  1.014172       vantag\n",
       "657       2  1.014172          vbr\n",
       "405       6  0.977633         view\n",
       "1020      2  1.014172       vincul\n",
       "\n",
       "[370 rows x 3 columns], R=30, lambda_step=0.01, plot_opts={'xlab': 'PC1', 'ylab': 'PC2'}, topic_order=[4, 1, 2, 5, 3, 6])"
      ]
     },
     "execution_count": 106,
     "metadata": {},
     "output_type": "execute_result"
    }
   ],
   "source": [
    "vis"
   ]
  },
  {
   "cell_type": "code",
   "execution_count": 107,
   "metadata": {},
   "outputs": [],
   "source": [
    "pyLDAvis.save_html(vis, 'lDAvis-6-topics.html')"
   ]
  },
  {
   "cell_type": "code",
   "execution_count": null,
   "metadata": {},
   "outputs": [],
   "source": []
  }
 ],
 "metadata": {
  "kernelspec": {
   "display_name": "Python [conda env:gensim]",
   "language": "python",
   "name": "conda-env-gensim-py"
  },
  "language_info": {
   "codemirror_mode": {
    "name": "ipython",
    "version": 3
   },
   "file_extension": ".py",
   "mimetype": "text/x-python",
   "name": "python",
   "nbconvert_exporter": "python",
   "pygments_lexer": "ipython3",
   "version": "3.7.3"
  }
 },
 "nbformat": 4,
 "nbformat_minor": 2
}
