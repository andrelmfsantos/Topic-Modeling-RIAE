{
 "cells": [
  {
   "cell_type": "code",
   "execution_count": 47,
   "metadata": {},
   "outputs": [
    {
     "name": "stdout",
     "output_type": "stream",
     "text": [
      "Python Version: 3.7.3 | packaged by conda-forge | (default, Mar 27 2019, 23:01:00) \n",
      "[GCC 7.3.0]\n"
     ]
    }
   ],
   "source": [
    "import numpy as np\n",
    "import pandas as pd\n",
    "import spacy\n",
    "import pickle\n",
    "import os\n",
    "import sys\n",
    "\n",
    "# gensim\n",
    "import gensim\n",
    "from gensim.models import CoherenceModel, LdaModel, LsiModel, HdpModel\n",
    "from gensim.models.wrappers import LdaMallet\n",
    "from gensim.corpora import Dictionary\n",
    "from gensim import corpora\n",
    "from gensim.parsing.preprocessing import preprocess_documents\n",
    "\n",
    "\n",
    "# sklearn\n",
    "from sklearn.decomposition import LatentDirichletAllocation, TruncatedSVD\n",
    "from sklearn.feature_extraction.text import CountVectorizer, TfidfVectorizer\n",
    "from sklearn.model_selection import GridSearchCV\n",
    "\n",
    "# Plotting tools\n",
    "import matplotlib.pyplot as plt\n",
    "import pyLDAvis\n",
    "import pyLDAvis.sklearn\n",
    "import pyLDAvis.gensim\n",
    "\n",
    "\n",
    "%matplotlib inline\n",
    "print('Python Version: %s' % (sys.version))"
   ]
  },
  {
   "cell_type": "code",
   "execution_count": 48,
   "metadata": {},
   "outputs": [
    {
     "data": {
      "text/html": [
       "<div>\n",
       "<style scoped>\n",
       "    .dataframe tbody tr th:only-of-type {\n",
       "        vertical-align: middle;\n",
       "    }\n",
       "\n",
       "    .dataframe tbody tr th {\n",
       "        vertical-align: top;\n",
       "    }\n",
       "\n",
       "    .dataframe thead th {\n",
       "        text-align: right;\n",
       "    }\n",
       "</style>\n",
       "<table border=\"1\" class=\"dataframe\">\n",
       "  <thead>\n",
       "    <tr style=\"text-align: right;\">\n",
       "      <th></th>\n",
       "      <th>CATEGORY</th>\n",
       "      <th>TITLE</th>\n",
       "      <th>AUTHOR</th>\n",
       "      <th>JOURNAL</th>\n",
       "      <th>YEAR</th>\n",
       "      <th>VOLUME</th>\n",
       "      <th>NUMBER</th>\n",
       "      <th>PAGES</th>\n",
       "      <th>ABSTRACT</th>\n",
       "      <th>URL</th>\n",
       "      <th>ISSN</th>\n",
       "      <th>TYPE</th>\n",
       "      <th>DOI</th>\n",
       "    </tr>\n",
       "  </thead>\n",
       "  <tbody>\n",
       "    <tr>\n",
       "      <th>0</th>\n",
       "      <td>ARTICLE</td>\n",
       "      <td>Observação Participante e Não Participante: Co...</td>\n",
       "      <td>Marietto, M. L.</td>\n",
       "      <td>Revista Ibero-Americana de Estratégia</td>\n",
       "      <td>2018</td>\n",
       "      <td>17</td>\n",
       "      <td>4</td>\n",
       "      <td>5-18</td>\n",
       "      <td>OBJETIVO DO ESTUDO: Fornecer explicações sobre...</td>\n",
       "      <td>http://www.spell.org.br/documentos/ver/51414/o...</td>\n",
       "      <td>2176-0756</td>\n",
       "      <td>Journal Article</td>\n",
       "      <td>10.5585/ ijsm.v17i4.2717</td>\n",
       "    </tr>\n",
       "    <tr>\n",
       "      <th>1</th>\n",
       "      <td>ARTICLE</td>\n",
       "      <td>Capacidades Dinâmicas em um Ambiente de Crise:...</td>\n",
       "      <td>Barcelos, R. and  Lopes, D. P. T. and  Gonçalv...</td>\n",
       "      <td>Revista Ibero-Americana de Estratégia</td>\n",
       "      <td>2018</td>\n",
       "      <td>17</td>\n",
       "      <td>4</td>\n",
       "      <td>19-37</td>\n",
       "      <td>OBJETIVO DO TRABALHO: explorar evidências sobr...</td>\n",
       "      <td>http://www.spell.org.br/documentos/ver/51415/c...</td>\n",
       "      <td>2176-0756</td>\n",
       "      <td>Journal Article</td>\n",
       "      <td>10.5585/ ijsm.v17i4.2615</td>\n",
       "    </tr>\n",
       "    <tr>\n",
       "      <th>2</th>\n",
       "      <td>ARTICLE</td>\n",
       "      <td>A Competitividade do Setor de Telecomunicações...</td>\n",
       "      <td>Muylder, C. F. and  Falce, J. L. and  Rodrigue...</td>\n",
       "      <td>Revista Ibero-Americana de Estratégia</td>\n",
       "      <td>2018</td>\n",
       "      <td>17</td>\n",
       "      <td>4</td>\n",
       "      <td>38-54</td>\n",
       "      <td>OBJETIVO: O objetivo deste trabalho consiste e...</td>\n",
       "      <td>http://www.spell.org.br/documentos/ver/51416/a...</td>\n",
       "      <td>2176-0756</td>\n",
       "      <td>Journal Article</td>\n",
       "      <td>10.5585/ ijsm.v17i4.2619</td>\n",
       "    </tr>\n",
       "    <tr>\n",
       "      <th>3</th>\n",
       "      <td>ARTICLE</td>\n",
       "      <td>Um Modelo Conceitual para a Caracterização da ...</td>\n",
       "      <td>Carmona, V. C. and  Martens, C. D. P. and  Fre...</td>\n",
       "      <td>Revista Ibero-Americana de Estratégia</td>\n",
       "      <td>2018</td>\n",
       "      <td>17</td>\n",
       "      <td>4</td>\n",
       "      <td>55-70</td>\n",
       "      <td>OBJETIVO DO ESTUDO: O objetivo do presente art...</td>\n",
       "      <td>http://www.spell.org.br/documentos/ver/51417/u...</td>\n",
       "      <td>2176-0756</td>\n",
       "      <td>Journal Article</td>\n",
       "      <td>10.5585/ ijsm.v17i4.2627</td>\n",
       "    </tr>\n",
       "    <tr>\n",
       "      <th>4</th>\n",
       "      <td>ARTICLE</td>\n",
       "      <td>O Efeito Moderador das Capabilidades da Manufa...</td>\n",
       "      <td>Vitorino Filho, V. A. and  Moori, R. G.</td>\n",
       "      <td>Revista Ibero-Americana de Estratégia</td>\n",
       "      <td>2018</td>\n",
       "      <td>17</td>\n",
       "      <td>4</td>\n",
       "      <td>71-89</td>\n",
       "      <td>OBJETIVO DO ESTUDO: o objetivo deste artigo é ...</td>\n",
       "      <td>http://www.spell.org.br/documentos/ver/51418/o...</td>\n",
       "      <td>2176-0756</td>\n",
       "      <td>Journal Article</td>\n",
       "      <td>10.5585/ ijsm.v17i4.2634</td>\n",
       "    </tr>\n",
       "  </tbody>\n",
       "</table>\n",
       "</div>"
      ],
      "text/plain": [
       "  CATEGORY                                              TITLE  \\\n",
       "0  ARTICLE  Observação Participante e Não Participante: Co...   \n",
       "1  ARTICLE  Capacidades Dinâmicas em um Ambiente de Crise:...   \n",
       "2  ARTICLE  A Competitividade do Setor de Telecomunicações...   \n",
       "3  ARTICLE  Um Modelo Conceitual para a Caracterização da ...   \n",
       "4  ARTICLE  O Efeito Moderador das Capabilidades da Manufa...   \n",
       "\n",
       "                                              AUTHOR  \\\n",
       "0                                    Marietto, M. L.   \n",
       "1  Barcelos, R. and  Lopes, D. P. T. and  Gonçalv...   \n",
       "2  Muylder, C. F. and  Falce, J. L. and  Rodrigue...   \n",
       "3  Carmona, V. C. and  Martens, C. D. P. and  Fre...   \n",
       "4            Vitorino Filho, V. A. and  Moori, R. G.   \n",
       "\n",
       "                                 JOURNAL  YEAR  VOLUME  NUMBER  PAGES  \\\n",
       "0  Revista Ibero-Americana de Estratégia  2018      17       4   5-18   \n",
       "1  Revista Ibero-Americana de Estratégia  2018      17       4  19-37   \n",
       "2  Revista Ibero-Americana de Estratégia  2018      17       4  38-54   \n",
       "3  Revista Ibero-Americana de Estratégia  2018      17       4  55-70   \n",
       "4  Revista Ibero-Americana de Estratégia  2018      17       4  71-89   \n",
       "\n",
       "                                            ABSTRACT  \\\n",
       "0  OBJETIVO DO ESTUDO: Fornecer explicações sobre...   \n",
       "1  OBJETIVO DO TRABALHO: explorar evidências sobr...   \n",
       "2  OBJETIVO: O objetivo deste trabalho consiste e...   \n",
       "3  OBJETIVO DO ESTUDO: O objetivo do presente art...   \n",
       "4  OBJETIVO DO ESTUDO: o objetivo deste artigo é ...   \n",
       "\n",
       "                                                 URL       ISSN  \\\n",
       "0  http://www.spell.org.br/documentos/ver/51414/o...  2176-0756   \n",
       "1  http://www.spell.org.br/documentos/ver/51415/c...  2176-0756   \n",
       "2  http://www.spell.org.br/documentos/ver/51416/a...  2176-0756   \n",
       "3  http://www.spell.org.br/documentos/ver/51417/u...  2176-0756   \n",
       "4  http://www.spell.org.br/documentos/ver/51418/o...  2176-0756   \n",
       "\n",
       "              TYPE                       DOI  \n",
       "0  Journal Article  10.5585/ ijsm.v17i4.2717  \n",
       "1  Journal Article  10.5585/ ijsm.v17i4.2615  \n",
       "2  Journal Article  10.5585/ ijsm.v17i4.2619  \n",
       "3  Journal Article  10.5585/ ijsm.v17i4.2627  \n",
       "4  Journal Article  10.5585/ ijsm.v17i4.2634  "
      ]
     },
     "execution_count": 48,
     "metadata": {},
     "output_type": "execute_result"
    }
   ],
   "source": [
    "df = pd.read_excel('riae-bibs-2014-2018-pt.xlsx')\n",
    "df.head()"
   ]
  },
  {
   "cell_type": "code",
   "execution_count": 49,
   "metadata": {},
   "outputs": [
    {
     "name": "stdout",
     "output_type": "stream",
     "text": [
      "<class 'pandas.core.frame.DataFrame'>\n",
      "RangeIndex: 172 entries, 0 to 171\n",
      "Data columns (total 13 columns):\n",
      "CATEGORY    172 non-null object\n",
      "TITLE       172 non-null object\n",
      "AUTHOR      172 non-null object\n",
      "JOURNAL     172 non-null object\n",
      "YEAR        172 non-null int64\n",
      "VOLUME      172 non-null int64\n",
      "NUMBER      172 non-null int64\n",
      "PAGES       170 non-null object\n",
      "ABSTRACT    172 non-null object\n",
      "URL         172 non-null object\n",
      "ISSN        172 non-null object\n",
      "TYPE        172 non-null object\n",
      "DOI         160 non-null object\n",
      "dtypes: int64(3), object(10)\n",
      "memory usage: 17.5+ KB\n",
      "None\n",
      "ARTICLE    164\n",
      "MISC         8\n",
      "Name: CATEGORY, dtype: int64\n",
      "Journal Article    164\n",
      "Generic              8\n",
      "Name: TYPE, dtype: int64\n"
     ]
    }
   ],
   "source": [
    "print(df.info())\n",
    "print(df.CATEGORY.value_counts())\n",
    "print(df.TYPE.value_counts())"
   ]
  },
  {
   "cell_type": "code",
   "execution_count": 50,
   "metadata": {},
   "outputs": [
    {
     "data": {
      "text/html": [
       "<div>\n",
       "<style scoped>\n",
       "    .dataframe tbody tr th:only-of-type {\n",
       "        vertical-align: middle;\n",
       "    }\n",
       "\n",
       "    .dataframe tbody tr th {\n",
       "        vertical-align: top;\n",
       "    }\n",
       "\n",
       "    .dataframe thead th {\n",
       "        text-align: right;\n",
       "    }\n",
       "</style>\n",
       "<table border=\"1\" class=\"dataframe\">\n",
       "  <thead>\n",
       "    <tr style=\"text-align: right;\">\n",
       "      <th></th>\n",
       "      <th>CATEGORY</th>\n",
       "      <th>TITLE</th>\n",
       "      <th>AUTHOR</th>\n",
       "      <th>JOURNAL</th>\n",
       "      <th>YEAR</th>\n",
       "      <th>VOLUME</th>\n",
       "      <th>NUMBER</th>\n",
       "      <th>PAGES</th>\n",
       "      <th>ABSTRACT</th>\n",
       "      <th>URL</th>\n",
       "      <th>ISSN</th>\n",
       "      <th>TYPE</th>\n",
       "      <th>DOI</th>\n",
       "    </tr>\n",
       "  </thead>\n",
       "  <tbody>\n",
       "    <tr>\n",
       "      <th>19</th>\n",
       "      <td>MISC</td>\n",
       "      <td>Comentário Editorial: - Normas APA para a Reda...</td>\n",
       "      <td>Serra, F. A. R. and  Ferreira, M. A. S. P. V.</td>\n",
       "      <td>Revista Ibero-Americana de Estratégia</td>\n",
       "      <td>2018</td>\n",
       "      <td>17</td>\n",
       "      <td>2</td>\n",
       "      <td>1-4</td>\n",
       "      <td>A maioria dos pesquisadores têm dificuldade co...</td>\n",
       "      <td>http://www.spell.org.br/documentos/ver/51000/c...</td>\n",
       "      <td>2176-0756</td>\n",
       "      <td>Generic</td>\n",
       "      <td>10.5585/riae.v17i2.2687</td>\n",
       "    </tr>\n",
       "    <tr>\n",
       "      <th>45</th>\n",
       "      <td>MISC</td>\n",
       "      <td>Resenha: - William P. Barnett e a Evolução da ...</td>\n",
       "      <td>Ribeiro, T. L. S. and  Teixeira, J. E. V.</td>\n",
       "      <td>Revista Ibero-Americana de Estratégia</td>\n",
       "      <td>2017</td>\n",
       "      <td>16</td>\n",
       "      <td>4</td>\n",
       "      <td>133-153</td>\n",
       "      <td>O livro “The Red Queen among organizations: ho...</td>\n",
       "      <td>http://www.spell.org.br/documentos/ver/47925/r...</td>\n",
       "      <td>2176-0756</td>\n",
       "      <td>Generic</td>\n",
       "      <td>10.5585/riae.v16i4.2591</td>\n",
       "    </tr>\n",
       "    <tr>\n",
       "      <th>63</th>\n",
       "      <td>MISC</td>\n",
       "      <td>A Behavioral Theory of the Firm: Uma Análise C...</td>\n",
       "      <td>Bernardo, E. G. and  Foresto, A. M. and  Ribei...</td>\n",
       "      <td>Revista Ibero-Americana de Estratégia</td>\n",
       "      <td>2017</td>\n",
       "      <td>16</td>\n",
       "      <td>2</td>\n",
       "      <td>141-150</td>\n",
       "      <td>O livro “A Behavioral Theory of The Firm”, rep...</td>\n",
       "      <td>http://www.spell.org.br/documentos/ver/45800/a...</td>\n",
       "      <td>2176-0756</td>\n",
       "      <td>Generic</td>\n",
       "      <td>10.5585/riae.v16i2.2545</td>\n",
       "    </tr>\n",
       "    <tr>\n",
       "      <th>64</th>\n",
       "      <td>MISC</td>\n",
       "      <td>Editorial: - Escolha do Periódico para Submiss...</td>\n",
       "      <td>Serra, F. A. R. and  Ferreira, M. A. S. P. V. ...</td>\n",
       "      <td>Revista Ibero-Americana de Estratégia</td>\n",
       "      <td>2017</td>\n",
       "      <td>16</td>\n",
       "      <td>1</td>\n",
       "      <td>1-7</td>\n",
       "      <td>A publicação de artigos científicos em periódi...</td>\n",
       "      <td>http://www.spell.org.br/documentos/ver/45006/e...</td>\n",
       "      <td>2176-0756</td>\n",
       "      <td>Generic</td>\n",
       "      <td>10.5585/riae.v16i1.2526</td>\n",
       "    </tr>\n",
       "    <tr>\n",
       "      <th>81</th>\n",
       "      <td>MISC</td>\n",
       "      <td>Resenha: - Cambridge Handbook of Strategy-as-P...</td>\n",
       "      <td>Marietto, M. L.</td>\n",
       "      <td>Revista Ibero-Americana de Estratégia</td>\n",
       "      <td>2016</td>\n",
       "      <td>15</td>\n",
       "      <td>4</td>\n",
       "      <td>118-125</td>\n",
       "      <td>Desde o artigo seminal de Whittington (1996) p...</td>\n",
       "      <td>http://www.spell.org.br/documentos/ver/43991/r...</td>\n",
       "      <td>2176-0756</td>\n",
       "      <td>Generic</td>\n",
       "      <td>10.5585/riae.v15i4.2469</td>\n",
       "    </tr>\n",
       "    <tr>\n",
       "      <th>96</th>\n",
       "      <td>MISC</td>\n",
       "      <td>Resenha: - The Dynamics of Local Learning in G...</td>\n",
       "      <td>Avrichir, I. and  Araujo, B. H. and  Ramiro, W.</td>\n",
       "      <td>Revista Ibero-Americana de Estratégia</td>\n",
       "      <td>2016</td>\n",
       "      <td>15</td>\n",
       "      <td>2</td>\n",
       "      <td>130-143</td>\n",
       "      <td>O livro The dynamics of local learning in glob...</td>\n",
       "      <td>http://www.spell.org.br/documentos/ver/41882/r...</td>\n",
       "      <td>2176-0756</td>\n",
       "      <td>Generic</td>\n",
       "      <td>10.5585/riae.v15i2.2346</td>\n",
       "    </tr>\n",
       "    <tr>\n",
       "      <th>105</th>\n",
       "      <td>MISC</td>\n",
       "      <td>Leadership B.S. – Jefrey Pfeffer e a Indústria...</td>\n",
       "      <td>Vils, L. and  Rodrigues, G. V.</td>\n",
       "      <td>Revista Ibero-Americana de Estratégia</td>\n",
       "      <td>2016</td>\n",
       "      <td>15</td>\n",
       "      <td>1</td>\n",
       "      <td>147-154</td>\n",
       "      <td>“Desenvolver a capacidade de liderança” é uma ...</td>\n",
       "      <td>http://www.spell.org.br/documentos/ver/40920/l...</td>\n",
       "      <td>2176-0756</td>\n",
       "      <td>Generic</td>\n",
       "      <td>10.5585/riae.v15i1.2840</td>\n",
       "    </tr>\n",
       "    <tr>\n",
       "      <th>123</th>\n",
       "      <td>MISC</td>\n",
       "      <td>Resenha: - Opción Para Ganar - (Jim Collins &amp; ...</td>\n",
       "      <td>Pereira, M. F. and  Boa, H. M. C.</td>\n",
       "      <td>Revista Ibero-Americana de Estratégia</td>\n",
       "      <td>2015</td>\n",
       "      <td>14</td>\n",
       "      <td>3</td>\n",
       "      <td>145-157</td>\n",
       "      <td>Com o aumento das pesquisas sobre como algumas...</td>\n",
       "      <td>http://www.spell.org.br/documentos/ver/38153/r...</td>\n",
       "      <td>2176-0756</td>\n",
       "      <td>Generic</td>\n",
       "      <td>10.5585/riae.v14i3.2264</td>\n",
       "    </tr>\n",
       "  </tbody>\n",
       "</table>\n",
       "</div>"
      ],
      "text/plain": [
       "    CATEGORY                                              TITLE  \\\n",
       "19      MISC  Comentário Editorial: - Normas APA para a Reda...   \n",
       "45      MISC  Resenha: - William P. Barnett e a Evolução da ...   \n",
       "63      MISC  A Behavioral Theory of the Firm: Uma Análise C...   \n",
       "64      MISC  Editorial: - Escolha do Periódico para Submiss...   \n",
       "81      MISC  Resenha: - Cambridge Handbook of Strategy-as-P...   \n",
       "96      MISC  Resenha: - The Dynamics of Local Learning in G...   \n",
       "105     MISC  Leadership B.S. – Jefrey Pfeffer e a Indústria...   \n",
       "123     MISC  Resenha: - Opción Para Ganar - (Jim Collins & ...   \n",
       "\n",
       "                                                AUTHOR  \\\n",
       "19       Serra, F. A. R. and  Ferreira, M. A. S. P. V.   \n",
       "45           Ribeiro, T. L. S. and  Teixeira, J. E. V.   \n",
       "63   Bernardo, E. G. and  Foresto, A. M. and  Ribei...   \n",
       "64   Serra, F. A. R. and  Ferreira, M. A. S. P. V. ...   \n",
       "81                                     Marietto, M. L.   \n",
       "96     Avrichir, I. and  Araujo, B. H. and  Ramiro, W.   \n",
       "105                     Vils, L. and  Rodrigues, G. V.   \n",
       "123                  Pereira, M. F. and  Boa, H. M. C.   \n",
       "\n",
       "                                   JOURNAL  YEAR  VOLUME  NUMBER    PAGES  \\\n",
       "19   Revista Ibero-Americana de Estratégia  2018      17       2      1-4   \n",
       "45   Revista Ibero-Americana de Estratégia  2017      16       4  133-153   \n",
       "63   Revista Ibero-Americana de Estratégia  2017      16       2  141-150   \n",
       "64   Revista Ibero-Americana de Estratégia  2017      16       1      1-7   \n",
       "81   Revista Ibero-Americana de Estratégia  2016      15       4  118-125   \n",
       "96   Revista Ibero-Americana de Estratégia  2016      15       2  130-143   \n",
       "105  Revista Ibero-Americana de Estratégia  2016      15       1  147-154   \n",
       "123  Revista Ibero-Americana de Estratégia  2015      14       3  145-157   \n",
       "\n",
       "                                              ABSTRACT  \\\n",
       "19   A maioria dos pesquisadores têm dificuldade co...   \n",
       "45   O livro “The Red Queen among organizations: ho...   \n",
       "63   O livro “A Behavioral Theory of The Firm”, rep...   \n",
       "64   A publicação de artigos científicos em periódi...   \n",
       "81   Desde o artigo seminal de Whittington (1996) p...   \n",
       "96   O livro The dynamics of local learning in glob...   \n",
       "105  “Desenvolver a capacidade de liderança” é uma ...   \n",
       "123  Com o aumento das pesquisas sobre como algumas...   \n",
       "\n",
       "                                                   URL       ISSN     TYPE  \\\n",
       "19   http://www.spell.org.br/documentos/ver/51000/c...  2176-0756  Generic   \n",
       "45   http://www.spell.org.br/documentos/ver/47925/r...  2176-0756  Generic   \n",
       "63   http://www.spell.org.br/documentos/ver/45800/a...  2176-0756  Generic   \n",
       "64   http://www.spell.org.br/documentos/ver/45006/e...  2176-0756  Generic   \n",
       "81   http://www.spell.org.br/documentos/ver/43991/r...  2176-0756  Generic   \n",
       "96   http://www.spell.org.br/documentos/ver/41882/r...  2176-0756  Generic   \n",
       "105  http://www.spell.org.br/documentos/ver/40920/l...  2176-0756  Generic   \n",
       "123  http://www.spell.org.br/documentos/ver/38153/r...  2176-0756  Generic   \n",
       "\n",
       "                         DOI  \n",
       "19   10.5585/riae.v17i2.2687  \n",
       "45   10.5585/riae.v16i4.2591  \n",
       "63   10.5585/riae.v16i2.2545  \n",
       "64   10.5585/riae.v16i1.2526  \n",
       "81   10.5585/riae.v15i4.2469  \n",
       "96   10.5585/riae.v15i2.2346  \n",
       "105  10.5585/riae.v15i1.2840  \n",
       "123  10.5585/riae.v14i3.2264  "
      ]
     },
     "execution_count": 50,
     "metadata": {},
     "output_type": "execute_result"
    }
   ],
   "source": [
    "# WTF is MISC?\n",
    "df[df['CATEGORY']=='MISC']"
   ]
  },
  {
   "cell_type": "code",
   "execution_count": 51,
   "metadata": {},
   "outputs": [
    {
     "name": "stdout",
     "output_type": "stream",
     "text": [
      "<class 'pandas.core.frame.DataFrame'>\n",
      "Int64Index: 164 entries, 0 to 171\n",
      "Data columns (total 13 columns):\n",
      "CATEGORY    164 non-null object\n",
      "TITLE       164 non-null object\n",
      "AUTHOR      164 non-null object\n",
      "JOURNAL     164 non-null object\n",
      "YEAR        164 non-null int64\n",
      "VOLUME      164 non-null int64\n",
      "NUMBER      164 non-null int64\n",
      "PAGES       162 non-null object\n",
      "ABSTRACT    164 non-null object\n",
      "URL         164 non-null object\n",
      "ISSN        164 non-null object\n",
      "TYPE        164 non-null object\n",
      "DOI         152 non-null object\n",
      "dtypes: int64(3), object(10)\n",
      "memory usage: 17.9+ KB\n",
      "None\n",
      "ARTICLE    164\n",
      "Name: CATEGORY, dtype: int64\n"
     ]
    }
   ],
   "source": [
    "# remove misc - 8 \n",
    "df = df[df['CATEGORY']!='MISC']\n",
    "print(df.info())\n",
    "print(df.CATEGORY.value_counts())"
   ]
  },
  {
   "cell_type": "code",
   "execution_count": 52,
   "metadata": {},
   "outputs": [],
   "source": [
    "df.to_excel('riae-bibs-164.xlsx', index=False)"
   ]
  },
  {
   "cell_type": "code",
   "execution_count": 24,
   "metadata": {},
   "outputs": [
    {
     "name": "stdout",
     "output_type": "stream",
     "text": [
      "spaCy Version: 2.1.4\n"
     ]
    }
   ],
   "source": [
    "nlp = spacy.load('pt_core_news_sm')\n",
    "print('spaCy Version: %s' % (spacy.__version__))"
   ]
  },
  {
   "cell_type": "code",
   "execution_count": 25,
   "metadata": {},
   "outputs": [],
   "source": [
    "# Convert to list\n",
    "data = df.ABSTRACT.values.tolist()"
   ]
  },
  {
   "cell_type": "code",
   "execution_count": 26,
   "metadata": {},
   "outputs": [],
   "source": [
    "# Remove Structured Abstracts\n",
    "data = [s.replace('OBJETIVO DO ESTUDO: ', '') for s in data]\n",
    "data = [s.replace('METODOLOGIA/ABORDAGEM: ', '') for s in data]\n",
    "data = [s.replace('PRINCIPAIS RESULTADOS: ', '') for s in data]\n",
    "data = [s.replace('CONTRIBUIÇÕES TEÓRICAS/METODOLÓGICAS: ','') for s in data]\n",
    "data = [s.replace('RELEVÂNCIA/ORIGINALIDADE: ','') for s in data]"
   ]
  },
  {
   "cell_type": "code",
   "execution_count": 27,
   "metadata": {},
   "outputs": [
    {
     "name": "stdout",
     "output_type": "stream",
     "text": [
      "['Fornecer explicações sobre os métodos, sugerir um roteiro, não exaustivo, e exemplos de utilização dos métodos na etapa de coleta de dados para estimular a utilização dos métodos. Revisão teórica sobre os métodos; Proposta de roteiro de procedimentos para etapa de coleta de dados; Exemplos empíricos de aplicação do método. Localização contextual e longitudinal sobre a evolução do método e o emprego da TI na observação não participante; caracterização dos tipos de pesquisadores; detalhamento didático por meio de roteiro (passo a passo) para utilização dos métodos; exemplos empíricos para facilitar a compreensão de utilização dos métodos; A principal contribuição foi a proposição de um roteiro (passo a passo) para orientar e estimular os pesquisadores a utilizarem os métodos; A contribuição teórica deita-se sobre a distinção do método de observação participante sobre o pressuposto da etnografia, além da caracterização do método de observação não participante com auxilio da TI. Também, contribuímos tipificando e apontando competências esperadas dos pesquisadores no papel de observadores. Proporcionar um roteiro didático, técnico e detalhado aos pesquisadores da área de Estratégia como Prática e/ou Estudo Organizacionais de aplicação de um método que ainda é pouco utilizado, mas que é central nas perspectivas futuras de análises qualitativas da área.']\n"
     ]
    }
   ],
   "source": [
    "print(data[:1])"
   ]
  },
  {
   "cell_type": "code",
   "execution_count": 247,
   "metadata": {},
   "outputs": [],
   "source": [
    "# remove punctuation and digits\n",
    "import re\n",
    "# punctuation and tokenize\n",
    "data = [re.sub(r'[.!?\\\\-]','', word) for word in data] \n",
    "data = [re.sub(r',','', word) for word in data]\n",
    "data = [re.sub(r';','', word) for word in data]\n",
    "data = [re.sub(r'/','', word) for word in data] \n",
    "data = [re.sub(r':','', word) for word in data]\n",
    "data = [re.sub(r'\\(','', word) for word in data]\n",
    "data = [re.sub(r'\\)','', word) for word in data] \n",
    "data = [re.sub(r'-','', word) for word in data]\n",
    "data = [re.sub(r'“','', word) for word in data] \n",
    "data = [re.sub(r'”','', word) for word in data]\n",
    "# digits\n",
    "data = [re.sub(r'[0-9]','', word) for word in data]"
   ]
  },
  {
   "cell_type": "markdown",
   "metadata": {},
   "source": [
    "## Stop Words\n",
    "```spaCy``` has some Stop Words"
   ]
  },
  {
   "cell_type": "code",
   "execution_count": 248,
   "metadata": {},
   "outputs": [
    {
     "name": "stdout",
     "output_type": "stream",
     "text": [
      "Number of stop words: 465\n",
      "First ten stop words: ['aumenta', 'nos', 'do', 'isto', 'lhe', 'des', 'dezanove', 'passo', 'pelos', 'questão']\n"
     ]
    }
   ],
   "source": [
    "spacy_stopwords = spacy.lang.pt.stop_words.STOP_WORDS\n",
    "print('Number of stop words: %d' % len(spacy_stopwords))\n",
    "print('First ten stop words: %s' % list(spacy_stopwords)[:10])"
   ]
  },
  {
   "cell_type": "code",
   "execution_count": 7,
   "metadata": {},
   "outputs": [],
   "source": [
    "nlp = spacy.load(\"pt_core_news_sm\")"
   ]
  },
  {
   "cell_type": "code",
   "execution_count": 251,
   "metadata": {},
   "outputs": [],
   "source": [
    "# Break data into documents\n",
    "documents = []\n",
    "for line in data:\n",
    "    temp = nlp(line)\n",
    "    documents.append(temp)"
   ]
  },
  {
   "cell_type": "code",
   "execution_count": 252,
   "metadata": {},
   "outputs": [
    {
     "name": "stdout",
     "output_type": "stream",
     "text": [
      "Length of data: 164\n",
      "Length of documents: 164\n"
     ]
    }
   ],
   "source": [
    "print('Length of data: %d' % len(data))\n",
    "print('Length of documents: %d' % len(documents))"
   ]
  },
  {
   "cell_type": "code",
   "execution_count": 253,
   "metadata": {},
   "outputs": [],
   "source": [
    "import pickle\n",
    "with open('documents', 'wb') as f: #save\n",
    "    pickle.dump(documents, f)\n",
    "\n",
    "#with open('documents', 'rb') as f: #load\n",
    "#    documents = pickle.load(f)"
   ]
  },
  {
   "cell_type": "code",
   "execution_count": 23,
   "metadata": {},
   "outputs": [],
   "source": [
    "# Adding custom stopwords\n",
    "nlp.Defaults.stop_words.add(\"a\")\n",
    "nlp.Defaults.stop_words.add(\"e\")\n",
    "nlp.Defaults.stop_words.add(\"o\")\n",
    "nlp.Defaults.stop_words.add(\"ti\")\n",
    "nlp.Defaults.stop_words.add(\"(passo\")\n",
    "nlp.Defaults.stop_words.add(\"passo\")\n",
    "nlp.Defaults.stop_words.add(\"passo)\")\n",
    "nlp.Defaults.stop_words.add(\"passo a passo\")\n",
    "nlp.Defaults.stop_words.add(\"e/ou\")\n",
    "nlp.Defaults.stop_words.add(\"objetivo\")\n",
    "nlp.Defaults.stop_words.add(\"ainda\")\n",
    "nlp.Defaults.stop_words.add(\"além\")\n",
    "nlp.Defaults.stop_words.add(\"análise\")\n",
    "nlp.Defaults.stop_words.add(\"análisou\")\n",
    "nlp.Defaults.stop_words.add(\"análisamos\")\n",
    "nlp.Defaults.stop_words.add(\"analisando\")\n",
    "nlp.Defaults.stop_words.add(\"analisados\")\n",
    "nlp.Defaults.stop_words.add(\"analisado\")\n",
    "nlp.Defaults.stop_words.add(\"análises\")\n",
    "nlp.Defaults.stop_words.add(\"artigo\")\n",
    "nlp.Defaults.stop_words.add(\"abordagem\")\n",
    "nlp.Defaults.stop_words.add(\"aborda\")\n",
    "nlp.Defaults.stop_words.add(\"método\")\n",
    "nlp.Defaults.stop_words.add(\"métodos\")\n",
    "nlp.Defaults.stop_words.add(\"pesquisa\")\n",
    "nlp.Defaults.stop_words.add(\"pesquisas\")\n",
    "nlp.Defaults.stop_words.add(\"literatura\")\n",
    "nlp.Defaults.stop_words.add(\"academia\")\n",
    "nlp.Defaults.stop_words.add(\"investigação\")\n",
    "nlp.Defaults.stop_words.add(\"investiga\")\n",
    "nlp.Defaults.stop_words.add(\"amostra\")\n",
    "nlp.Defaults.stop_words.add(\"aumenta\")\n",
    "nlp.Defaults.stop_words.add(\"aumentou\")\n",
    "nlp.Defaults.stop_words.add(\"utilização\")\n",
    "nlp.Defaults.stop_words.add(\"utiliza\")\n",
    "nlp.Defaults.stop_words.add(\"estudo\")\n",
    "nlp.Defaults.stop_words.add(\"estudos\")\n",
    "nlp.Defaults.stop_words.add(\"resultado\")\n",
    "nlp.Defaults.stop_words.add(\"resultados\")\n",
    "nlp.Defaults.stop_words.add(\"apresenta\")\n",
    "nlp.Defaults.stop_words.add(\"apresentou\")\n",
    "nlp.Defaults.stop_words.add(\"apresentação\")\n",
    "nlp.Defaults.stop_words.add(\"proposta\")\n",
    "nlp.Defaults.stop_words.add(\"propostas\")\n",
    "nlp.Defaults.stop_words.add(\"diferentes\")\n",
    "nlp.Defaults.stop_words.add(\"diferem\")\n",
    "nlp.Defaults.stop_words.add(\"varia\")\n",
    "nlp.Defaults.stop_words.add(\"variou\")\n",
    "nlp.Defaults.stop_words.add(\"variam\")\n",
    "nlp.Defaults.stop_words.add(\"exemplos\")\n",
    "nlp.Defaults.stop_words.add(\"metodologia\")\n",
    "nlp.Defaults.stop_words.add(\"metodologias\")\n",
    "nlp.Defaults.stop_words.add(\"realização\")\n",
    "nlp.Defaults.stop_words.add(\"coleta\")"
   ]
  },
  {
   "cell_type": "code",
   "execution_count": 24,
   "metadata": {},
   "outputs": [
    {
     "name": "stdout",
     "output_type": "stream",
     "text": [
      "Length of stopwords: 465\n"
     ]
    }
   ],
   "source": [
    "print('Length of stopwords: %d' % len(nlp.Defaults.stop_words))"
   ]
  },
  {
   "cell_type": "code",
   "execution_count": 3,
   "metadata": {},
   "outputs": [],
   "source": [
    "removal=['ADV','PRON','CCONJ','PUNCT','PART','DET','ADP','SPACE']"
   ]
  },
  {
   "cell_type": "code",
   "execution_count": 11,
   "metadata": {},
   "outputs": [],
   "source": [
    "# tokenizing and removing stop words and punctiation\n",
    "temp=[]\n",
    "removal=['ADV','PRON','CCONJ','PUNCT','PART','DET','ADP','SPACE']\n",
    "for line in documents:\n",
    "    tokens = [token.text for token in line if not token.is_stop and \n",
    "              token.is_alpha and len(token)>2 and \n",
    "              token.pos_ not in removal]\n",
    "    temp.append(tokens)"
   ]
  },
  {
   "cell_type": "code",
   "execution_count": 12,
   "metadata": {},
   "outputs": [
    {
     "name": "stdout",
     "output_type": "stream",
     "text": [
      "Length of documents tokenized: 164\n"
     ]
    }
   ],
   "source": [
    "print('Length of documents tokenized: %d' % len(temp))"
   ]
  },
  {
   "cell_type": "code",
   "execution_count": 13,
   "metadata": {},
   "outputs": [],
   "source": [
    "# remove common words\n",
    "texts = [[word for word in document if word not in nlp.Defaults.stop_words]\n",
    "         for document in temp]"
   ]
  },
  {
   "cell_type": "code",
   "execution_count": 14,
   "metadata": {},
   "outputs": [],
   "source": [
    "# remove words that appear only once\n",
    "from collections import defaultdict\n",
    "frequency = defaultdict(int)\n",
    "for text in texts:\n",
    "    for token in text:\n",
    "        frequency[token] += 1\n",
    "\n",
    "texts = [[token for token in text if frequency[token] > 1]\n",
    "         for text in texts]"
   ]
  },
  {
   "cell_type": "code",
   "execution_count": 15,
   "metadata": {},
   "outputs": [],
   "source": [
    "import pickle\n",
    "with open('texts', 'wb') as f: #save\n",
    "    pickle.dump(texts, f)"
   ]
  },
  {
   "cell_type": "code",
   "execution_count": 16,
   "metadata": {},
   "outputs": [
    {
     "name": "stderr",
     "output_type": "stream",
     "text": [
      "[nltk_data] Downloading package rslp to /home/storopoli/nltk_data...\n",
      "[nltk_data]   Package rslp is already up-to-date!\n"
     ]
    }
   ],
   "source": [
    "# lemmatize with Portuguese RSLP\n",
    "import nltk\n",
    "nltk.download('rslp')\n",
    "stemmer = nltk.stem.RSLPStemmer()\n",
    "lemmatized_output = [[stemmer.stem(token) for token in text] for text in texts]"
   ]
  },
  {
   "cell_type": "code",
   "execution_count": 38,
   "metadata": {},
   "outputs": [],
   "source": [
    "# lemmatize with Portuguese Snowball\n",
    "import nltk\n",
    "stemmer_snowball = nltk.stem.snowball.PortugueseStemmer()\n",
    "lemmatized_output_snowball = [[stemmer_snowball.stem(token) for token in text] for text in texts]"
   ]
  },
  {
   "cell_type": "code",
   "execution_count": 41,
   "metadata": {},
   "outputs": [],
   "source": [
    "# Adding lemmatized stop words\n",
    "nlp.Defaults.stop_words.add(\"explic\")\n",
    "nlp.Defaults.stop_words.add(\"suger\")\n",
    "nlp.Defaults.stop_words.add(\"rot\")\n",
    "nlp.Defaults.stop_words.add(\"etap\")\n",
    "nlp.Defaults.stop_words.add(\"colet\")\n",
    "nlp.Defaults.stop_words.add(\"dad\")\n",
    "nlp.Defaults.stop_words.add(\"etap\")\n",
    "nlp.Defaults.stop_words.add(\"tip\")\n",
    "nlp.Defaults.stop_words.add(\"facil\")\n",
    "nlp.Defaults.stop_words.add(\"compreens\")\n",
    "nlp.Defaults.stop_words.add(\"princip\")\n",
    "nlp.Defaults.stop_words.add(\"contribu\")\n",
    "nlp.Defaults.stop_words.add(\"orient\")\n",
    "nlp.Defaults.stop_words.add(\"estimul\")\n",
    "nlp.Defaults.stop_words.add(\"pesquis\")\n",
    "nlp.Defaults.stop_words.add(\"eou\")\n",
    "nlp.Defaults.stop_words.add(\"sid\")\n",
    "nlp.Defaults.stop_words.add(\"long\")\n",
    "nlp.Defaults.stop_words.add(\"ano\")\n",
    "nlp.Defaults.stop_words.add(\"silv\")\n",
    "nlp.Defaults.stop_words.add(\"originalidaderelev\")\n",
    "nlp.Defaults.stop_words.add(\"ferraz\")\n",
    "nlp.Defaults.stop_words.add(\"set\")\n",
    "nlp.Defaults.stop_words.add(\"realiz\")\n",
    "nlp.Defaults.stop_words.add(\"cri\")\n",
    "nlp.Defaults.stop_words.add(\"metodolog\")\n",
    "nlp.Defaults.stop_words.add(\"necess\")\n",
    "nlp.Defaults.stop_words.add(\"identific\")\n",
    "nlp.Defaults.stop_words.add(\"uso\")\n",
    "nlp.Defaults.stop_words.add(\"relev\")\n",
    "nlp.Defaults.stop_words.add(\"document\")\n",
    "nlp.Defaults.stop_words.add(\"técn\")\n",
    "nlp.Defaults.stop_words.add(\"melhor\")\n",
    "nlp.Defaults.stop_words.add(\"element\")\n",
    "nlp.Defaults.stop_words.add(\"analis\")\n",
    "nlp.Defaults.stop_words.add(\"apresent\")\n",
    "nlp.Defaults.stop_words.add(\"exist\")\n",
    "nlp.Defaults.stop_words.add(\"relaç\")\n",
    "nlp.Defaults.stop_words.add(\"influenc\")\n",
    "nlp.Defaults.stop_words.add(\"influ\")\n",
    "nlp.Defaults.stop_words.add(\"qual\")\n",
    "nlp.Defaults.stop_words.add(\"vist\")\n",
    "nlp.Defaults.stop_words.add(\"colet\")\n",
    "nlp.Defaults.stop_words.add(\"atu\")\n",
    "nlp.Defaults.stop_words.add(\"trat\")\n",
    "nlp.Defaults.stop_words.add(\"red\")\n",
    "nlp.Defaults.stop_words.add(\"vis\")\n",
    "nlp.Defaults.stop_words.add(\"compreend\")\n",
    "nlp.Defaults.stop_words.add(\"há\")\n",
    "nlp.Defaults.stop_words.add(\"entend\")\n",
    "nlp.Defaults.stop_words.add(\"utiliz\")\n",
    "nlp.Defaults.stop_words.add(\"trabalh\")\n",
    "nlp.Defaults.stop_words.add(\"tem\")\n",
    "nlp.Defaults.stop_words.add(\"bas\")\n",
    "nlp.Defaults.stop_words.add(\"tem\")\n",
    "nlp.Defaults.stop_words.add(\"autor\")\n",
    "nlp.Defaults.stop_words.add(\"refer\")\n",
    "nlp.Defaults.stop_words.add(\"obje\")\n",
    "nlp.Defaults.stop_words.add(\"ger\")\n",
    "nlp.Defaults.stop_words.add(\"bibliográf\")\n",
    "nlp.Defaults.stop_words.add(\"&\")\n",
    "nlp.Defaults.stop_words.add(\"científ\")\n",
    "nlp.Defaults.stop_words.add(\"foc\")\n",
    "nlp.Defaults.stop_words.add(\"revis\")\n",
    "nlp.Defaults.stop_words.add(\"busc\")\n",
    "nlp.Defaults.stop_words.add(\"aplic\")\n",
    "nlp.Defaults.stop_words.add(\"cade\")\n",
    "nlp.Defaults.stop_words.add(\"-\")\n",
    "nlp.Defaults.stop_words.add(\"permit\")\n",
    "nlp.Defaults.stop_words.add(\"empír\")\n",
    "nlp.Defaults.stop_words.add(\"atual\")\n",
    "nlp.Defaults.stop_words.add(\"categor\")\n",
    "nlp.Defaults.stop_words.add(\"projet\")\n",
    "nlp.Defaults.stop_words.add(\"fundament\")\n",
    "nlp.Defaults.stop_words.add(\"discuss\")\n",
    "nlp.Defaults.stop_words.add(\"propost\")\n",
    "nlp.Defaults.stop_words.add(\"soc\")\n",
    "nlp.Defaults.stop_words.add(\"caracter\")\n",
    "nlp.Defaults.stop_words.add(\"centr\")\n",
    "nlp.Defaults.stop_words.add(\"detalh\")\n",
    "nlp.Defaults.stop_words.add(\"adequ\")\n",
    "nlp.Defaults.stop_words.add(\"obtenç\")\n",
    "nlp.Defaults.stop_words.add(\"áre\")\n",
    "nlp.Defaults.stop_words.add(\"soc\")\n",
    "nlp.Defaults.stop_words.add(\"port\")\n",
    "nlp.Defaults.stop_words.add(\"moment\")\n",
    "nlp.Defaults.stop_words.add(\"auxili\")\n",
    "nlp.Defaults.stop_words.add(\"respond\")\n",
    "nlp.Defaults.stop_words.add(\"levant\")\n",
    "nlp.Defaults.stop_words.add(\"lev\")\n",
    "nlp.Defaults.stop_words.add(\"realizous\")\n",
    "nlp.Defaults.stop_words.add(\"confirm\")\n",
    "nlp.Defaults.stop_words.add(\"journ\")\n",
    "nlp.Defaults.stop_words.add(\"concluis\")\n",
    "nlp.Defaults.stop_words.add(\"discut\")\n",
    "nlp.Defaults.stop_words.add(\"verific\")\n",
    "nlp.Defaults.stop_words.add(\"entr\")\n",
    "nlp.Defaults.stop_words.add(\"quest\")\n",
    "nlp.Defaults.stop_words.add(\"garant\")\n",
    "nlp.Defaults.stop_words.add(\"rsc\")\n",
    "nlp.Defaults.stop_words.add(\"descri\")\n",
    "nlp.Defaults.stop_words.add(\"mostr\")\n",
    "nlp.Defaults.stop_words.add(\"sug\")\n",
    "nlp.Defaults.stop_words.add(\"represent\")\n",
    "nlp.Defaults.stop_words.add(\"escolh\")\n",
    "nlp.Defaults.stop_words.add(\"fort\")\n",
    "nlp.Defaults.stop_words.add(\"simil\")\n",
    "nlp.Defaults.stop_words.add(\"conduz\")\n",
    "nlp.Defaults.stop_words.add(\"evid\")\n",
    "nlp.Defaults.stop_words.add(\"entant\")\n",
    "nlp.Defaults.stop_words.add(\"prim\")\n",
    "nlp.Defaults.stop_words.add(\"cort\")\n",
    "nlp.Defaults.stop_words.add(\"ecm\")\n",
    "nlp.Defaults.stop_words.add(\"avali\")\n",
    "nlp.Defaults.stop_words.add(\"pres\")\n",
    "nlp.Defaults.stop_words.add(\"propos\")\n",
    "nlp.Defaults.stop_words.add(\"possu\")\n",
    "nlp.Defaults.stop_words.add(\"evidenci\")\n",
    "nlp.Defaults.stop_words.add(\"evidenc\")\n",
    "nlp.Defaults.stop_words.add(\"iii\")\n",
    "nlp.Defaults.stop_words.add(\"import\")\n",
    "nlp.Defaults.stop_words.add(\"investig\")\n",
    "nlp.Defaults.stop_words.add(\"sej\")\n",
    "nlp.Defaults.stop_words.add(\"utilizous\")\n",
    "nlp.Defaults.stop_words.add(\"observas\")\n",
    "nlp.Defaults.stop_words.add(\"poss\")\n",
    "nlp.Defaults.stop_words.add(\"dist\")\n",
    "nlp.Defaults.stop_words.add(\"volt\")\n",
    "nlp.Defaults.stop_words.add(\"bop\")\n",
    "nlp.Defaults.stop_words.add(\"emm\")\n",
    "nlp.Defaults.stop_words.add(\"cond\")\n",
    "nlp.Defaults.stop_words.add(\"diferenç\")\n",
    "nlp.Defaults.stop_words.add(\"vari\")\n",
    "nlp.Defaults.stop_words.add(\"cen\")\n",
    "nlp.Defaults.stop_words.add(\"possibilit\")\n",
    "nlp.Defaults.stop_words.add(\"vid\")\n",
    "nlp.Defaults.stop_words.add(\"camp\")\n",
    "nlp.Defaults.stop_words.add(\"artig\")\n",
    "nlp.Defaults.stop_words.add(\"base\")\n",
    "nlp.Defaults.stop_words.add(\"obr\")\n",
    "nlp.Defaults.stop_words.add(\"traz\")\n",
    "nlp.Defaults.stop_words.add(\"livr\")\n",
    "nlp.Defaults.stop_words.add(\"cas\")\n",
    "nlp.Defaults.stop_words.add(\"ocorr\")\n",
    "nlp.Defaults.stop_words.add(\"estud\")\n",
    "nlp.Defaults.stop_words.add(\"demonstr\")\n",
    "nlp.Defaults.stop_words.add(\"únic\")\n",
    "nlp.Defaults.stop_words.add(\"elabor\")\n",
    "nlp.Defaults.stop_words.add(\"tratas\")\n",
    "nlp.Defaults.stop_words.add(\"espec\")\n",
    "nlp.Defaults.stop_words.add(\"continu\")\n",
    "nlp.Defaults.stop_words.add(\"aument\")\n",
    "nlp.Defaults.stop_words.add(\"send\")\n",
    "nlp.Defaults.stop_words.add(\"suport\")\n",
    "nlp.Defaults.stop_words.add(\"melh\")\n",
    "nlp.Defaults.stop_words.add(\"softw\")\n",
    "nlp.Defaults.stop_words.add(\"obt\")\n",
    "nlp.Defaults.stop_words.add(\"ampli\")\n",
    "nlp.Defaults.stop_words.add(\"classific\")\n",
    "nlp.Defaults.stop_words.add(\"avanç\")\n",
    "nlp.Defaults.stop_words.add(\"oei\")\n",
    "nlp.Defaults.stop_words.add(\"alt\")\n",
    "nlp.Defaults.stop_words.add(\"últ\")\n",
    "nlp.Defaults.stop_words.add(\"tom\")\n",
    "nlp.Defaults.stop_words.add(\"conclus\")"
   ]
  },
  {
   "cell_type": "code",
   "execution_count": 42,
   "metadata": {},
   "outputs": [],
   "source": [
    "# remove common words\n",
    "lemmatized_output = [[word for word in document if word not in nlp.Defaults.stop_words]\n",
    "         for document in lemmatized_output]"
   ]
  },
  {
   "cell_type": "code",
   "execution_count": 43,
   "metadata": {},
   "outputs": [],
   "source": [
    "import pickle\n",
    "with open('lemmatized_output', 'wb') as f: #save\n",
    "    pickle.dump(lemmatized_output, f)"
   ]
  },
  {
   "cell_type": "code",
   "execution_count": 44,
   "metadata": {},
   "outputs": [
    {
     "name": "stdout",
     "output_type": "stream",
     "text": [
      "Dictionary(1025 unique tokens: ['compet', 'context', 'didá', 'empreg', 'estratég']...)\n"
     ]
    },
    {
     "name": "stderr",
     "output_type": "stream",
     "text": [
      "/home/storopoli/anaconda3/envs/topic-modeling/lib/python3.7/site-packages/smart_open/smart_open_lib.py:398: UserWarning: This function is deprecated, use smart_open.open instead. See the migration notes for details: https://github.com/RaRe-Technologies/smart_open/blob/master/README.rst#migrating-to-the-new-open-function\n",
      "  'See the migration notes for details: %s' % _MIGRATION_NOTES_URL\n"
     ]
    }
   ],
   "source": [
    "dictionary = corpora.Dictionary(lemmatized_output)\n",
    "dictionary.save('dictionary.dict')  # store the dictionary, for future reference\n",
    "print(dictionary)"
   ]
  },
  {
   "cell_type": "code",
   "execution_count": 45,
   "metadata": {},
   "outputs": [],
   "source": [
    "# get dictionary to add more stopwords\n",
    "import csv\n",
    "with open('dictionary.csv', 'w') as f:\n",
    "    for key in dictionary.keys():\n",
    "        f.write(\"%s,%s\\n\"%(key,dictionary[key]))\n",
    "dictionary_df = pd.DataFrame.from_dict(dictionary, orient='index')\n",
    "dictionary_df.to_excel('dictionary.xlsx')"
   ]
  },
  {
   "cell_type": "code",
   "execution_count": 39,
   "metadata": {},
   "outputs": [
    {
     "name": "stdout",
     "output_type": "stream",
     "text": [
      "Dictionary(1263 unique tokens: ['aplic', 'caracteriz', 'central', 'colet', 'competent']...)\n"
     ]
    },
    {
     "name": "stderr",
     "output_type": "stream",
     "text": [
      "/home/storopoli/anaconda3/envs/topic-modeling/lib/python3.7/site-packages/smart_open/smart_open_lib.py:398: UserWarning: This function is deprecated, use smart_open.open instead. See the migration notes for details: https://github.com/RaRe-Technologies/smart_open/blob/master/README.rst#migrating-to-the-new-open-function\n",
      "  'See the migration notes for details: %s' % _MIGRATION_NOTES_URL\n"
     ]
    }
   ],
   "source": [
    "dictionary_snowball = corpora.Dictionary(lemmatized_output_snowball)\n",
    "dictionary_snowball.save('dictionary_snowball.dict')  # store the dictionary, for future reference\n",
    "print(dictionary_snowball)"
   ]
  },
  {
   "cell_type": "code",
   "execution_count": 40,
   "metadata": {},
   "outputs": [],
   "source": [
    "# get dictionary to add more stopwords\n",
    "import csv\n",
    "with open('dictionary_snowball.csv', 'w') as f:\n",
    "    for key in dictionary_snowball.keys():\n",
    "        f.write(\"%s,%s\\n\"%(key,dictionary_snowball[key]))\n",
    "dictionary_snowball_df = pd.DataFrame.from_dict(dictionary_snowball, orient='index')\n",
    "dictionary_snowball_df.to_excel('dictionary_snowball.xlsx')"
   ]
  },
  {
   "cell_type": "code",
   "execution_count": 46,
   "metadata": {},
   "outputs": [
    {
     "name": "stdout",
     "output_type": "stream",
     "text": [
      "164\n"
     ]
    }
   ],
   "source": [
    "# get corpus vectors\n",
    "corpus = [dictionary.doc2bow(text) for text in lemmatized_output]\n",
    "corpora.MmCorpus.serialize('corpus.mm', corpus)  # store to disk, for later use\n",
    "print(len(corpus))"
   ]
  },
  {
   "cell_type": "markdown",
   "metadata": {},
   "source": [
    "## Load Everything\n",
    "If you ever need to load dictionary, corpus and documents"
   ]
  },
  {
   "cell_type": "code",
   "execution_count": 2,
   "metadata": {},
   "outputs": [
    {
     "name": "stdout",
     "output_type": "stream",
     "text": [
      "Dictionary(1252 unique tokens: ['aplic', 'caracter', 'centr', 'colet', 'compet']...)\n",
      "MmCorpus(164 documents, 1252 features, 8582 non-zero entries)\n",
      "164\n",
      "164\n",
      "456\n"
     ]
    },
    {
     "name": "stderr",
     "output_type": "stream",
     "text": [
      "/home/storopoli/anaconda3/envs/topic-modeling/lib/python3.7/site-packages/smart_open/smart_open_lib.py:398: UserWarning: This function is deprecated, use smart_open.open instead. See the migration notes for details: https://github.com/RaRe-Technologies/smart_open/blob/master/README.rst#migrating-to-the-new-open-function\n",
      "  'See the migration notes for details: %s' % _MIGRATION_NOTES_URL\n"
     ]
    }
   ],
   "source": [
    "import pickle\n",
    "with open('documents', 'rb') as f: #load\n",
    "    documents = pickle.load(f)\n",
    "with open('stoplist', 'rb') as f: #load\n",
    "    stoplist = pickle.load(f)\n",
    "with open('texts', 'rb') as f: #load\n",
    "    texts = pickle.load(f)\n",
    "with open('lemmatized_output', 'rb') as f: #load\n",
    "    lemmatized_output = pickle.load(f)\n",
    "\n",
    "dictionary = gensim.corpora.Dictionary.load('dictionary.dict')\n",
    "corpus = gensim.corpora.MmCorpus('corpus.mm')\n",
    "\n",
    "print(dictionary)\n",
    "print(corpus)\n",
    "print(len(documents))\n",
    "print(len(lemmatized_output))\n",
    "print(len(stoplist))"
   ]
  },
  {
   "cell_type": "code",
   "execution_count": 62,
   "metadata": {},
   "outputs": [],
   "source": [
    "temppp = []\n",
    "for i in lemmatized_output:\n",
    "    temp2 = ''\n",
    "    for line in i:\n",
    "        temp2 = temp2 + line\n",
    "        temp2 = temp2 + ' '\n",
    "    temppp.append(temp2)"
   ]
  },
  {
   "cell_type": "code",
   "execution_count": 64,
   "metadata": {},
   "outputs": [
    {
     "data": {
      "text/plain": [
       "164"
      ]
     },
     "execution_count": 64,
     "metadata": {},
     "output_type": "execute_result"
    }
   ],
   "source": [
    "len(temppp)"
   ]
  },
  {
   "cell_type": "code",
   "execution_count": 71,
   "metadata": {},
   "outputs": [],
   "source": [
    "np.savetxt(\"export_texts_lemmatize.csv\", temppp, delimiter=\",\", fmt='%s', header='documents')"
   ]
  }
 ],
 "metadata": {
  "kernelspec": {
   "display_name": "Python [conda env:topic-modeling]",
   "language": "python",
   "name": "conda-env-topic-modeling-py"
  },
  "language_info": {
   "codemirror_mode": {
    "name": "ipython",
    "version": 3
   },
   "file_extension": ".py",
   "mimetype": "text/x-python",
   "name": "python",
   "nbconvert_exporter": "python",
   "pygments_lexer": "ipython3",
   "version": "3.7.3"
  }
 },
 "nbformat": 4,
 "nbformat_minor": 2
}
